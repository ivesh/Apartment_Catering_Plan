{
  "nbformat": 4,
  "nbformat_minor": 0,
  "metadata": {
    "colab": {
      "provenance": [],
      "collapsed_sections": [
        "jVzJ5I5wNq63"
      ],
      "authorship_tag": "ABX9TyPs4PNnz3Ypj6DyZ7Qn5s7i",
      "include_colab_link": true
    },
    "kernelspec": {
      "name": "python3",
      "display_name": "Python 3"
    },
    "language_info": {
      "name": "python"
    }
  },
  "cells": [
    {
      "cell_type": "markdown",
      "metadata": {
        "id": "view-in-github",
        "colab_type": "text"
      },
      "source": [
        "<a href=\"https://colab.research.google.com/github/ivesh/Apartment_Catering_Plan/blob/main/Mod7_Finaldata_capstone.ipynb\" target=\"_parent\"><img src=\"https://colab.research.google.com/assets/colab-badge.svg\" alt=\"Open In Colab\"/></a>"
      ]
    },
    {
      "cell_type": "markdown",
      "source": [
        "1. Data Loading and Overview: 🎓\n",
        "\n",
        "We begin by loading the dataset, named \"Final_Data.csv,\" into a Pandas DataFrame. We display the first few rows of the DataFrame to provide an initial overview of the data's structure and content.\n",
        "\n"
      ],
      "metadata": {
        "id": "QCIiXosIB8an"
      }
    },
    {
      "cell_type": "code",
      "execution_count": null,
      "metadata": {
        "id": "KMPlYtlYBrfl"
      },
      "outputs": [],
      "source": [
        "import pandas as pd\n",
        "import numpy as np"
      ]
    },
    {
      "cell_type": "code",
      "source": [
        "df = pd.read_csv(\"/content/Final_Data - Final_Data.csv.csv\")"
      ],
      "metadata": {
        "id": "LTuOzPI9CDNy"
      },
      "execution_count": null,
      "outputs": []
    },
    {
      "cell_type": "code",
      "source": [
        "df.head(25)"
      ],
      "metadata": {
        "colab": {
          "base_uri": "https://localhost:8080/",
          "height": 920
        },
        "id": "96DjQz60CbWy",
        "outputId": "86287611-bdc9-4163-8cb1-3a2c67435894"
      },
      "execution_count": null,
      "outputs": [
        {
          "output_type": "execute_result",
          "data": {
            "text/plain": [
              "    Unnamed: 0  Flat no Wing Owner Name Owner's Spouse Name No of Resident  \\\n",
              "0            0      101    A      Omkar                   -              4   \n",
              "1            1      102    A    Bhavana                   -              5   \n",
              "2            2      103    A     Govind                   -              5   \n",
              "3            3      201    A      Reena                   -              4   \n",
              "4            4      202    A   Karishma                   -              7   \n",
              "5            5      203    A     Ragesh                   -              4   \n",
              "6            6      301    A    Harshad               Parul              8   \n",
              "7            7      302    A      Abdul                 NaN              4   \n",
              "8            8      303    A      Lohit                   -              5   \n",
              "9            9      401    A      Vijay                 NaN              5   \n",
              "10          10      402    A    Bhavana                 NaN              4   \n",
              "11          11      403    A     Govind                 NaN              7   \n",
              "12          12      501    A      Reena                 NaN              4   \n",
              "13          13      502    A   Karishma                 NaN              8   \n",
              "14          14      503    A     Ragesh                 NaN              -   \n",
              "15          15      601    A    Harshad                 NaN              3   \n",
              "16          16      602    A    Praveen                 NaN              6   \n",
              "17          17      603    A      Arjun                 NaN              4   \n",
              "18          18      701    A      Priya                 NaN              5   \n",
              "19          19      702    A       Ravi              Shashi              3   \n",
              "20          20      703    A     Deepak                 NaN              -   \n",
              "21          21      801    A    Nandini                 NaN              4   \n",
              "22          22      802    A      Nisha                 NaN              5   \n",
              "23          23      803    A      Sunil               Sneha              4   \n",
              "24          24      901    A   Priyanka                 NaN              3   \n",
              "\n",
              "   Confirmed Members Origin of Owner  Flat Area (sq.mt)  No of Room  \\\n",
              "0                  4     Maharashtra                500           2   \n",
              "1                  6       Bangalore                500           2   \n",
              "2                  3       Rajasthan                500           2   \n",
              "3                  2  Madhya Pradesh                550           2   \n",
              "4                 15         Gujurat                600           3   \n",
              "5                  4          Kerala                500           2   \n",
              "6                  8         Gujurat                550           2   \n",
              "7                  4     Maharashtra                600           3   \n",
              "8                  2       Bangalore                500           2   \n",
              "9                  3       Rajasthan                550           2   \n",
              "10                 2  Madhya Pradesh                600           3   \n",
              "11                20         Gujarat                500           2   \n",
              "12                 4          Kerala                550           2   \n",
              "13                 8         Gujarat                600           3   \n",
              "14                 -     Maharashtra                600           3   \n",
              "15                 2      Tamil Nadu                600           3   \n",
              "16                 4       Karnataka                600           3   \n",
              "17                 2     Maharashtra                600           3   \n",
              "18                 4   Uttar Pradesh                550           2   \n",
              "19                 2       Karnataka                550           2   \n",
              "20                 -     Maharashtra                500           2   \n",
              "21                 3           Delhi                500           2   \n",
              "22                 4         Haryana                500           2   \n",
              "23                 3     Maharashtra                500           2   \n",
              "24                 2       Rajasthan                550           2   \n",
              "\n",
              "   Tenant or owner Maintenance Amt Availlability of owner Flat Vacancy  \\\n",
              "0            Owner            6000                    Yes        Owned   \n",
              "1            Owner            6000                    Yes        Owned   \n",
              "2            Owner            6000                    Yes        Owned   \n",
              "3           Tenant            6000                     No        Owned   \n",
              "4            Owner            7000                     No        Owned   \n",
              "5           Tenant            5500                     No        Owned   \n",
              "6            Owner            6000                    Yes        Owned   \n",
              "7            Owner            7000                    Yes       Vacant   \n",
              "8            Owner               -                      -            -   \n",
              "9           Tenant             NaN                     No          NaN   \n",
              "10          Tenant            7000                     No       Vacant   \n",
              "11           Owner             NaN                     No       Vacant   \n",
              "12           Owner             NaN                    Yes          NaN   \n",
              "13          Tenant            7000                    Yes        Owned   \n",
              "14           Owner            7000                    Yes       Vacant   \n",
              "15           Owner            7000                     No       Vacant   \n",
              "16           Owner            7000                     No       Vacant   \n",
              "17          Tenant            7000                     No       Vacant   \n",
              "18           Owner             NaN                     No          NaN   \n",
              "19           Owner             NaN                    Yes        Owned   \n",
              "20           Owner             NaN                     No          NaN   \n",
              "21          Tenant             NaN                    Yes       Vacant   \n",
              "22           Owner             NaN                     No        Owned   \n",
              "23           Owner             NaN                     No        Owned   \n",
              "24          Tenant             NaN                     No       Vacant   \n",
              "\n",
              "    Donation  \n",
              "0     2500.0  \n",
              "1    10000.0  \n",
              "2     1500.0  \n",
              "3        NaN  \n",
              "4     2500.0  \n",
              "5     5000.0  \n",
              "6     5000.0  \n",
              "7        NaN  \n",
              "8     1000.0  \n",
              "9    10000.0  \n",
              "10    2500.0  \n",
              "11    6000.0  \n",
              "12    2500.0  \n",
              "13    2500.0  \n",
              "14   10000.0  \n",
              "15    1500.0  \n",
              "16       NaN  \n",
              "17    1500.0  \n",
              "18    1000.0  \n",
              "19    5000.0  \n",
              "20       NaN  \n",
              "21    1500.0  \n",
              "22    1500.0  \n",
              "23    2500.0  \n",
              "24    6000.0  "
            ],
            "text/html": [
              "\n",
              "  <div id=\"df-4f105b2e-4531-4e88-a808-778007467ef8\" class=\"colab-df-container\">\n",
              "    <div>\n",
              "<style scoped>\n",
              "    .dataframe tbody tr th:only-of-type {\n",
              "        vertical-align: middle;\n",
              "    }\n",
              "\n",
              "    .dataframe tbody tr th {\n",
              "        vertical-align: top;\n",
              "    }\n",
              "\n",
              "    .dataframe thead th {\n",
              "        text-align: right;\n",
              "    }\n",
              "</style>\n",
              "<table border=\"1\" class=\"dataframe\">\n",
              "  <thead>\n",
              "    <tr style=\"text-align: right;\">\n",
              "      <th></th>\n",
              "      <th>Unnamed: 0</th>\n",
              "      <th>Flat no</th>\n",
              "      <th>Wing</th>\n",
              "      <th>Owner Name</th>\n",
              "      <th>Owner's Spouse Name</th>\n",
              "      <th>No of Resident</th>\n",
              "      <th>Confirmed Members</th>\n",
              "      <th>Origin of Owner</th>\n",
              "      <th>Flat Area (sq.mt)</th>\n",
              "      <th>No of Room</th>\n",
              "      <th>Tenant or owner</th>\n",
              "      <th>Maintenance Amt</th>\n",
              "      <th>Availlability of owner</th>\n",
              "      <th>Flat Vacancy</th>\n",
              "      <th>Donation</th>\n",
              "    </tr>\n",
              "  </thead>\n",
              "  <tbody>\n",
              "    <tr>\n",
              "      <th>0</th>\n",
              "      <td>0</td>\n",
              "      <td>101</td>\n",
              "      <td>A</td>\n",
              "      <td>Omkar</td>\n",
              "      <td>-</td>\n",
              "      <td>4</td>\n",
              "      <td>4</td>\n",
              "      <td>Maharashtra</td>\n",
              "      <td>500</td>\n",
              "      <td>2</td>\n",
              "      <td>Owner</td>\n",
              "      <td>6000</td>\n",
              "      <td>Yes</td>\n",
              "      <td>Owned</td>\n",
              "      <td>2500.0</td>\n",
              "    </tr>\n",
              "    <tr>\n",
              "      <th>1</th>\n",
              "      <td>1</td>\n",
              "      <td>102</td>\n",
              "      <td>A</td>\n",
              "      <td>Bhavana</td>\n",
              "      <td>-</td>\n",
              "      <td>5</td>\n",
              "      <td>6</td>\n",
              "      <td>Bangalore</td>\n",
              "      <td>500</td>\n",
              "      <td>2</td>\n",
              "      <td>Owner</td>\n",
              "      <td>6000</td>\n",
              "      <td>Yes</td>\n",
              "      <td>Owned</td>\n",
              "      <td>10000.0</td>\n",
              "    </tr>\n",
              "    <tr>\n",
              "      <th>2</th>\n",
              "      <td>2</td>\n",
              "      <td>103</td>\n",
              "      <td>A</td>\n",
              "      <td>Govind</td>\n",
              "      <td>-</td>\n",
              "      <td>5</td>\n",
              "      <td>3</td>\n",
              "      <td>Rajasthan</td>\n",
              "      <td>500</td>\n",
              "      <td>2</td>\n",
              "      <td>Owner</td>\n",
              "      <td>6000</td>\n",
              "      <td>Yes</td>\n",
              "      <td>Owned</td>\n",
              "      <td>1500.0</td>\n",
              "    </tr>\n",
              "    <tr>\n",
              "      <th>3</th>\n",
              "      <td>3</td>\n",
              "      <td>201</td>\n",
              "      <td>A</td>\n",
              "      <td>Reena</td>\n",
              "      <td>-</td>\n",
              "      <td>4</td>\n",
              "      <td>2</td>\n",
              "      <td>Madhya Pradesh</td>\n",
              "      <td>550</td>\n",
              "      <td>2</td>\n",
              "      <td>Tenant</td>\n",
              "      <td>6000</td>\n",
              "      <td>No</td>\n",
              "      <td>Owned</td>\n",
              "      <td>NaN</td>\n",
              "    </tr>\n",
              "    <tr>\n",
              "      <th>4</th>\n",
              "      <td>4</td>\n",
              "      <td>202</td>\n",
              "      <td>A</td>\n",
              "      <td>Karishma</td>\n",
              "      <td>-</td>\n",
              "      <td>7</td>\n",
              "      <td>15</td>\n",
              "      <td>Gujurat</td>\n",
              "      <td>600</td>\n",
              "      <td>3</td>\n",
              "      <td>Owner</td>\n",
              "      <td>7000</td>\n",
              "      <td>No</td>\n",
              "      <td>Owned</td>\n",
              "      <td>2500.0</td>\n",
              "    </tr>\n",
              "    <tr>\n",
              "      <th>5</th>\n",
              "      <td>5</td>\n",
              "      <td>203</td>\n",
              "      <td>A</td>\n",
              "      <td>Ragesh</td>\n",
              "      <td>-</td>\n",
              "      <td>4</td>\n",
              "      <td>4</td>\n",
              "      <td>Kerala</td>\n",
              "      <td>500</td>\n",
              "      <td>2</td>\n",
              "      <td>Tenant</td>\n",
              "      <td>5500</td>\n",
              "      <td>No</td>\n",
              "      <td>Owned</td>\n",
              "      <td>5000.0</td>\n",
              "    </tr>\n",
              "    <tr>\n",
              "      <th>6</th>\n",
              "      <td>6</td>\n",
              "      <td>301</td>\n",
              "      <td>A</td>\n",
              "      <td>Harshad</td>\n",
              "      <td>Parul</td>\n",
              "      <td>8</td>\n",
              "      <td>8</td>\n",
              "      <td>Gujurat</td>\n",
              "      <td>550</td>\n",
              "      <td>2</td>\n",
              "      <td>Owner</td>\n",
              "      <td>6000</td>\n",
              "      <td>Yes</td>\n",
              "      <td>Owned</td>\n",
              "      <td>5000.0</td>\n",
              "    </tr>\n",
              "    <tr>\n",
              "      <th>7</th>\n",
              "      <td>7</td>\n",
              "      <td>302</td>\n",
              "      <td>A</td>\n",
              "      <td>Abdul</td>\n",
              "      <td>NaN</td>\n",
              "      <td>4</td>\n",
              "      <td>4</td>\n",
              "      <td>Maharashtra</td>\n",
              "      <td>600</td>\n",
              "      <td>3</td>\n",
              "      <td>Owner</td>\n",
              "      <td>7000</td>\n",
              "      <td>Yes</td>\n",
              "      <td>Vacant</td>\n",
              "      <td>NaN</td>\n",
              "    </tr>\n",
              "    <tr>\n",
              "      <th>8</th>\n",
              "      <td>8</td>\n",
              "      <td>303</td>\n",
              "      <td>A</td>\n",
              "      <td>Lohit</td>\n",
              "      <td>-</td>\n",
              "      <td>5</td>\n",
              "      <td>2</td>\n",
              "      <td>Bangalore</td>\n",
              "      <td>500</td>\n",
              "      <td>2</td>\n",
              "      <td>Owner</td>\n",
              "      <td>-</td>\n",
              "      <td>-</td>\n",
              "      <td>-</td>\n",
              "      <td>1000.0</td>\n",
              "    </tr>\n",
              "    <tr>\n",
              "      <th>9</th>\n",
              "      <td>9</td>\n",
              "      <td>401</td>\n",
              "      <td>A</td>\n",
              "      <td>Vijay</td>\n",
              "      <td>NaN</td>\n",
              "      <td>5</td>\n",
              "      <td>3</td>\n",
              "      <td>Rajasthan</td>\n",
              "      <td>550</td>\n",
              "      <td>2</td>\n",
              "      <td>Tenant</td>\n",
              "      <td>NaN</td>\n",
              "      <td>No</td>\n",
              "      <td>NaN</td>\n",
              "      <td>10000.0</td>\n",
              "    </tr>\n",
              "    <tr>\n",
              "      <th>10</th>\n",
              "      <td>10</td>\n",
              "      <td>402</td>\n",
              "      <td>A</td>\n",
              "      <td>Bhavana</td>\n",
              "      <td>NaN</td>\n",
              "      <td>4</td>\n",
              "      <td>2</td>\n",
              "      <td>Madhya Pradesh</td>\n",
              "      <td>600</td>\n",
              "      <td>3</td>\n",
              "      <td>Tenant</td>\n",
              "      <td>7000</td>\n",
              "      <td>No</td>\n",
              "      <td>Vacant</td>\n",
              "      <td>2500.0</td>\n",
              "    </tr>\n",
              "    <tr>\n",
              "      <th>11</th>\n",
              "      <td>11</td>\n",
              "      <td>403</td>\n",
              "      <td>A</td>\n",
              "      <td>Govind</td>\n",
              "      <td>NaN</td>\n",
              "      <td>7</td>\n",
              "      <td>20</td>\n",
              "      <td>Gujarat</td>\n",
              "      <td>500</td>\n",
              "      <td>2</td>\n",
              "      <td>Owner</td>\n",
              "      <td>NaN</td>\n",
              "      <td>No</td>\n",
              "      <td>Vacant</td>\n",
              "      <td>6000.0</td>\n",
              "    </tr>\n",
              "    <tr>\n",
              "      <th>12</th>\n",
              "      <td>12</td>\n",
              "      <td>501</td>\n",
              "      <td>A</td>\n",
              "      <td>Reena</td>\n",
              "      <td>NaN</td>\n",
              "      <td>4</td>\n",
              "      <td>4</td>\n",
              "      <td>Kerala</td>\n",
              "      <td>550</td>\n",
              "      <td>2</td>\n",
              "      <td>Owner</td>\n",
              "      <td>NaN</td>\n",
              "      <td>Yes</td>\n",
              "      <td>NaN</td>\n",
              "      <td>2500.0</td>\n",
              "    </tr>\n",
              "    <tr>\n",
              "      <th>13</th>\n",
              "      <td>13</td>\n",
              "      <td>502</td>\n",
              "      <td>A</td>\n",
              "      <td>Karishma</td>\n",
              "      <td>NaN</td>\n",
              "      <td>8</td>\n",
              "      <td>8</td>\n",
              "      <td>Gujarat</td>\n",
              "      <td>600</td>\n",
              "      <td>3</td>\n",
              "      <td>Tenant</td>\n",
              "      <td>7000</td>\n",
              "      <td>Yes</td>\n",
              "      <td>Owned</td>\n",
              "      <td>2500.0</td>\n",
              "    </tr>\n",
              "    <tr>\n",
              "      <th>14</th>\n",
              "      <td>14</td>\n",
              "      <td>503</td>\n",
              "      <td>A</td>\n",
              "      <td>Ragesh</td>\n",
              "      <td>NaN</td>\n",
              "      <td>-</td>\n",
              "      <td>-</td>\n",
              "      <td>Maharashtra</td>\n",
              "      <td>600</td>\n",
              "      <td>3</td>\n",
              "      <td>Owner</td>\n",
              "      <td>7000</td>\n",
              "      <td>Yes</td>\n",
              "      <td>Vacant</td>\n",
              "      <td>10000.0</td>\n",
              "    </tr>\n",
              "    <tr>\n",
              "      <th>15</th>\n",
              "      <td>15</td>\n",
              "      <td>601</td>\n",
              "      <td>A</td>\n",
              "      <td>Harshad</td>\n",
              "      <td>NaN</td>\n",
              "      <td>3</td>\n",
              "      <td>2</td>\n",
              "      <td>Tamil Nadu</td>\n",
              "      <td>600</td>\n",
              "      <td>3</td>\n",
              "      <td>Owner</td>\n",
              "      <td>7000</td>\n",
              "      <td>No</td>\n",
              "      <td>Vacant</td>\n",
              "      <td>1500.0</td>\n",
              "    </tr>\n",
              "    <tr>\n",
              "      <th>16</th>\n",
              "      <td>16</td>\n",
              "      <td>602</td>\n",
              "      <td>A</td>\n",
              "      <td>Praveen</td>\n",
              "      <td>NaN</td>\n",
              "      <td>6</td>\n",
              "      <td>4</td>\n",
              "      <td>Karnataka</td>\n",
              "      <td>600</td>\n",
              "      <td>3</td>\n",
              "      <td>Owner</td>\n",
              "      <td>7000</td>\n",
              "      <td>No</td>\n",
              "      <td>Vacant</td>\n",
              "      <td>NaN</td>\n",
              "    </tr>\n",
              "    <tr>\n",
              "      <th>17</th>\n",
              "      <td>17</td>\n",
              "      <td>603</td>\n",
              "      <td>A</td>\n",
              "      <td>Arjun</td>\n",
              "      <td>NaN</td>\n",
              "      <td>4</td>\n",
              "      <td>2</td>\n",
              "      <td>Maharashtra</td>\n",
              "      <td>600</td>\n",
              "      <td>3</td>\n",
              "      <td>Tenant</td>\n",
              "      <td>7000</td>\n",
              "      <td>No</td>\n",
              "      <td>Vacant</td>\n",
              "      <td>1500.0</td>\n",
              "    </tr>\n",
              "    <tr>\n",
              "      <th>18</th>\n",
              "      <td>18</td>\n",
              "      <td>701</td>\n",
              "      <td>A</td>\n",
              "      <td>Priya</td>\n",
              "      <td>NaN</td>\n",
              "      <td>5</td>\n",
              "      <td>4</td>\n",
              "      <td>Uttar Pradesh</td>\n",
              "      <td>550</td>\n",
              "      <td>2</td>\n",
              "      <td>Owner</td>\n",
              "      <td>NaN</td>\n",
              "      <td>No</td>\n",
              "      <td>NaN</td>\n",
              "      <td>1000.0</td>\n",
              "    </tr>\n",
              "    <tr>\n",
              "      <th>19</th>\n",
              "      <td>19</td>\n",
              "      <td>702</td>\n",
              "      <td>A</td>\n",
              "      <td>Ravi</td>\n",
              "      <td>Shashi</td>\n",
              "      <td>3</td>\n",
              "      <td>2</td>\n",
              "      <td>Karnataka</td>\n",
              "      <td>550</td>\n",
              "      <td>2</td>\n",
              "      <td>Owner</td>\n",
              "      <td>NaN</td>\n",
              "      <td>Yes</td>\n",
              "      <td>Owned</td>\n",
              "      <td>5000.0</td>\n",
              "    </tr>\n",
              "    <tr>\n",
              "      <th>20</th>\n",
              "      <td>20</td>\n",
              "      <td>703</td>\n",
              "      <td>A</td>\n",
              "      <td>Deepak</td>\n",
              "      <td>NaN</td>\n",
              "      <td>-</td>\n",
              "      <td>-</td>\n",
              "      <td>Maharashtra</td>\n",
              "      <td>500</td>\n",
              "      <td>2</td>\n",
              "      <td>Owner</td>\n",
              "      <td>NaN</td>\n",
              "      <td>No</td>\n",
              "      <td>NaN</td>\n",
              "      <td>NaN</td>\n",
              "    </tr>\n",
              "    <tr>\n",
              "      <th>21</th>\n",
              "      <td>21</td>\n",
              "      <td>801</td>\n",
              "      <td>A</td>\n",
              "      <td>Nandini</td>\n",
              "      <td>NaN</td>\n",
              "      <td>4</td>\n",
              "      <td>3</td>\n",
              "      <td>Delhi</td>\n",
              "      <td>500</td>\n",
              "      <td>2</td>\n",
              "      <td>Tenant</td>\n",
              "      <td>NaN</td>\n",
              "      <td>Yes</td>\n",
              "      <td>Vacant</td>\n",
              "      <td>1500.0</td>\n",
              "    </tr>\n",
              "    <tr>\n",
              "      <th>22</th>\n",
              "      <td>22</td>\n",
              "      <td>802</td>\n",
              "      <td>A</td>\n",
              "      <td>Nisha</td>\n",
              "      <td>NaN</td>\n",
              "      <td>5</td>\n",
              "      <td>4</td>\n",
              "      <td>Haryana</td>\n",
              "      <td>500</td>\n",
              "      <td>2</td>\n",
              "      <td>Owner</td>\n",
              "      <td>NaN</td>\n",
              "      <td>No</td>\n",
              "      <td>Owned</td>\n",
              "      <td>1500.0</td>\n",
              "    </tr>\n",
              "    <tr>\n",
              "      <th>23</th>\n",
              "      <td>23</td>\n",
              "      <td>803</td>\n",
              "      <td>A</td>\n",
              "      <td>Sunil</td>\n",
              "      <td>Sneha</td>\n",
              "      <td>4</td>\n",
              "      <td>3</td>\n",
              "      <td>Maharashtra</td>\n",
              "      <td>500</td>\n",
              "      <td>2</td>\n",
              "      <td>Owner</td>\n",
              "      <td>NaN</td>\n",
              "      <td>No</td>\n",
              "      <td>Owned</td>\n",
              "      <td>2500.0</td>\n",
              "    </tr>\n",
              "    <tr>\n",
              "      <th>24</th>\n",
              "      <td>24</td>\n",
              "      <td>901</td>\n",
              "      <td>A</td>\n",
              "      <td>Priyanka</td>\n",
              "      <td>NaN</td>\n",
              "      <td>3</td>\n",
              "      <td>2</td>\n",
              "      <td>Rajasthan</td>\n",
              "      <td>550</td>\n",
              "      <td>2</td>\n",
              "      <td>Tenant</td>\n",
              "      <td>NaN</td>\n",
              "      <td>No</td>\n",
              "      <td>Vacant</td>\n",
              "      <td>6000.0</td>\n",
              "    </tr>\n",
              "  </tbody>\n",
              "</table>\n",
              "</div>\n",
              "    <div class=\"colab-df-buttons\">\n",
              "\n",
              "  <div class=\"colab-df-container\">\n",
              "    <button class=\"colab-df-convert\" onclick=\"convertToInteractive('df-4f105b2e-4531-4e88-a808-778007467ef8')\"\n",
              "            title=\"Convert this dataframe to an interactive table.\"\n",
              "            style=\"display:none;\">\n",
              "\n",
              "  <svg xmlns=\"http://www.w3.org/2000/svg\" height=\"24px\" viewBox=\"0 -960 960 960\">\n",
              "    <path d=\"M120-120v-720h720v720H120Zm60-500h600v-160H180v160Zm220 220h160v-160H400v160Zm0 220h160v-160H400v160ZM180-400h160v-160H180v160Zm440 0h160v-160H620v160ZM180-180h160v-160H180v160Zm440 0h160v-160H620v160Z\"/>\n",
              "  </svg>\n",
              "    </button>\n",
              "\n",
              "  <style>\n",
              "    .colab-df-container {\n",
              "      display:flex;\n",
              "      gap: 12px;\n",
              "    }\n",
              "\n",
              "    .colab-df-convert {\n",
              "      background-color: #E8F0FE;\n",
              "      border: none;\n",
              "      border-radius: 50%;\n",
              "      cursor: pointer;\n",
              "      display: none;\n",
              "      fill: #1967D2;\n",
              "      height: 32px;\n",
              "      padding: 0 0 0 0;\n",
              "      width: 32px;\n",
              "    }\n",
              "\n",
              "    .colab-df-convert:hover {\n",
              "      background-color: #E2EBFA;\n",
              "      box-shadow: 0px 1px 2px rgba(60, 64, 67, 0.3), 0px 1px 3px 1px rgba(60, 64, 67, 0.15);\n",
              "      fill: #174EA6;\n",
              "    }\n",
              "\n",
              "    .colab-df-buttons div {\n",
              "      margin-bottom: 4px;\n",
              "    }\n",
              "\n",
              "    [theme=dark] .colab-df-convert {\n",
              "      background-color: #3B4455;\n",
              "      fill: #D2E3FC;\n",
              "    }\n",
              "\n",
              "    [theme=dark] .colab-df-convert:hover {\n",
              "      background-color: #434B5C;\n",
              "      box-shadow: 0px 1px 3px 1px rgba(0, 0, 0, 0.15);\n",
              "      filter: drop-shadow(0px 1px 2px rgba(0, 0, 0, 0.3));\n",
              "      fill: #FFFFFF;\n",
              "    }\n",
              "  </style>\n",
              "\n",
              "    <script>\n",
              "      const buttonEl =\n",
              "        document.querySelector('#df-4f105b2e-4531-4e88-a808-778007467ef8 button.colab-df-convert');\n",
              "      buttonEl.style.display =\n",
              "        google.colab.kernel.accessAllowed ? 'block' : 'none';\n",
              "\n",
              "      async function convertToInteractive(key) {\n",
              "        const element = document.querySelector('#df-4f105b2e-4531-4e88-a808-778007467ef8');\n",
              "        const dataTable =\n",
              "          await google.colab.kernel.invokeFunction('convertToInteractive',\n",
              "                                                    [key], {});\n",
              "        if (!dataTable) return;\n",
              "\n",
              "        const docLinkHtml = 'Like what you see? Visit the ' +\n",
              "          '<a target=\"_blank\" href=https://colab.research.google.com/notebooks/data_table.ipynb>data table notebook</a>'\n",
              "          + ' to learn more about interactive tables.';\n",
              "        element.innerHTML = '';\n",
              "        dataTable['output_type'] = 'display_data';\n",
              "        await google.colab.output.renderOutput(dataTable, element);\n",
              "        const docLink = document.createElement('div');\n",
              "        docLink.innerHTML = docLinkHtml;\n",
              "        element.appendChild(docLink);\n",
              "      }\n",
              "    </script>\n",
              "  </div>\n",
              "\n",
              "\n",
              "<div id=\"df-4bf7326f-3b73-45ce-a5ce-ecb5ee85cfab\">\n",
              "  <button class=\"colab-df-quickchart\" onclick=\"quickchart('df-4bf7326f-3b73-45ce-a5ce-ecb5ee85cfab')\"\n",
              "            title=\"Suggest charts\"\n",
              "            style=\"display:none;\">\n",
              "\n",
              "<svg xmlns=\"http://www.w3.org/2000/svg\" height=\"24px\"viewBox=\"0 0 24 24\"\n",
              "     width=\"24px\">\n",
              "    <g>\n",
              "        <path d=\"M19 3H5c-1.1 0-2 .9-2 2v14c0 1.1.9 2 2 2h14c1.1 0 2-.9 2-2V5c0-1.1-.9-2-2-2zM9 17H7v-7h2v7zm4 0h-2V7h2v10zm4 0h-2v-4h2v4z\"/>\n",
              "    </g>\n",
              "</svg>\n",
              "  </button>\n",
              "\n",
              "<style>\n",
              "  .colab-df-quickchart {\n",
              "      --bg-color: #E8F0FE;\n",
              "      --fill-color: #1967D2;\n",
              "      --hover-bg-color: #E2EBFA;\n",
              "      --hover-fill-color: #174EA6;\n",
              "      --disabled-fill-color: #AAA;\n",
              "      --disabled-bg-color: #DDD;\n",
              "  }\n",
              "\n",
              "  [theme=dark] .colab-df-quickchart {\n",
              "      --bg-color: #3B4455;\n",
              "      --fill-color: #D2E3FC;\n",
              "      --hover-bg-color: #434B5C;\n",
              "      --hover-fill-color: #FFFFFF;\n",
              "      --disabled-bg-color: #3B4455;\n",
              "      --disabled-fill-color: #666;\n",
              "  }\n",
              "\n",
              "  .colab-df-quickchart {\n",
              "    background-color: var(--bg-color);\n",
              "    border: none;\n",
              "    border-radius: 50%;\n",
              "    cursor: pointer;\n",
              "    display: none;\n",
              "    fill: var(--fill-color);\n",
              "    height: 32px;\n",
              "    padding: 0;\n",
              "    width: 32px;\n",
              "  }\n",
              "\n",
              "  .colab-df-quickchart:hover {\n",
              "    background-color: var(--hover-bg-color);\n",
              "    box-shadow: 0 1px 2px rgba(60, 64, 67, 0.3), 0 1px 3px 1px rgba(60, 64, 67, 0.15);\n",
              "    fill: var(--button-hover-fill-color);\n",
              "  }\n",
              "\n",
              "  .colab-df-quickchart-complete:disabled,\n",
              "  .colab-df-quickchart-complete:disabled:hover {\n",
              "    background-color: var(--disabled-bg-color);\n",
              "    fill: var(--disabled-fill-color);\n",
              "    box-shadow: none;\n",
              "  }\n",
              "\n",
              "  .colab-df-spinner {\n",
              "    border: 2px solid var(--fill-color);\n",
              "    border-color: transparent;\n",
              "    border-bottom-color: var(--fill-color);\n",
              "    animation:\n",
              "      spin 1s steps(1) infinite;\n",
              "  }\n",
              "\n",
              "  @keyframes spin {\n",
              "    0% {\n",
              "      border-color: transparent;\n",
              "      border-bottom-color: var(--fill-color);\n",
              "      border-left-color: var(--fill-color);\n",
              "    }\n",
              "    20% {\n",
              "      border-color: transparent;\n",
              "      border-left-color: var(--fill-color);\n",
              "      border-top-color: var(--fill-color);\n",
              "    }\n",
              "    30% {\n",
              "      border-color: transparent;\n",
              "      border-left-color: var(--fill-color);\n",
              "      border-top-color: var(--fill-color);\n",
              "      border-right-color: var(--fill-color);\n",
              "    }\n",
              "    40% {\n",
              "      border-color: transparent;\n",
              "      border-right-color: var(--fill-color);\n",
              "      border-top-color: var(--fill-color);\n",
              "    }\n",
              "    60% {\n",
              "      border-color: transparent;\n",
              "      border-right-color: var(--fill-color);\n",
              "    }\n",
              "    80% {\n",
              "      border-color: transparent;\n",
              "      border-right-color: var(--fill-color);\n",
              "      border-bottom-color: var(--fill-color);\n",
              "    }\n",
              "    90% {\n",
              "      border-color: transparent;\n",
              "      border-bottom-color: var(--fill-color);\n",
              "    }\n",
              "  }\n",
              "</style>\n",
              "\n",
              "  <script>\n",
              "    async function quickchart(key) {\n",
              "      const quickchartButtonEl =\n",
              "        document.querySelector('#' + key + ' button');\n",
              "      quickchartButtonEl.disabled = true;  // To prevent multiple clicks.\n",
              "      quickchartButtonEl.classList.add('colab-df-spinner');\n",
              "      try {\n",
              "        const charts = await google.colab.kernel.invokeFunction(\n",
              "            'suggestCharts', [key], {});\n",
              "      } catch (error) {\n",
              "        console.error('Error during call to suggestCharts:', error);\n",
              "      }\n",
              "      quickchartButtonEl.classList.remove('colab-df-spinner');\n",
              "      quickchartButtonEl.classList.add('colab-df-quickchart-complete');\n",
              "    }\n",
              "    (() => {\n",
              "      let quickchartButtonEl =\n",
              "        document.querySelector('#df-4bf7326f-3b73-45ce-a5ce-ecb5ee85cfab button');\n",
              "      quickchartButtonEl.style.display =\n",
              "        google.colab.kernel.accessAllowed ? 'block' : 'none';\n",
              "    })();\n",
              "  </script>\n",
              "</div>\n",
              "\n",
              "    </div>\n",
              "  </div>\n"
            ],
            "application/vnd.google.colaboratory.intrinsic+json": {
              "type": "dataframe",
              "variable_name": "df",
              "summary": "{\n  \"name\": \"df\",\n  \"rows\": 60,\n  \"fields\": [\n    {\n      \"column\": \"Unnamed: 0\",\n      \"properties\": {\n        \"dtype\": \"number\",\n        \"std\": 17,\n        \"min\": 0,\n        \"max\": 59,\n        \"num_unique_values\": 60,\n        \"samples\": [\n          0,\n          5,\n          36\n        ],\n        \"semantic_type\": \"\",\n        \"description\": \"\"\n      }\n    },\n    {\n      \"column\": \"Flat no\",\n      \"properties\": {\n        \"dtype\": \"number\",\n        \"std\": 289,\n        \"min\": 101,\n        \"max\": 1003,\n        \"num_unique_values\": 30,\n        \"samples\": [\n          1001,\n          601,\n          803\n        ],\n        \"semantic_type\": \"\",\n        \"description\": \"\"\n      }\n    },\n    {\n      \"column\": \"Wing\",\n      \"properties\": {\n        \"dtype\": \"category\",\n        \"num_unique_values\": 2,\n        \"samples\": [\n          \"B\",\n          \"A\"\n        ],\n        \"semantic_type\": \"\",\n        \"description\": \"\"\n      }\n    },\n    {\n      \"column\": \"Owner Name\",\n      \"properties\": {\n        \"dtype\": \"string\",\n        \"num_unique_values\": 51,\n        \"samples\": [\n          \"Gaurav\",\n          \"Sachin\"\n        ],\n        \"semantic_type\": \"\",\n        \"description\": \"\"\n      }\n    },\n    {\n      \"column\": \"Owner's Spouse Name\",\n      \"properties\": {\n        \"dtype\": \"category\",\n        \"num_unique_values\": 12,\n        \"samples\": [\n          \"Anjali\",\n          \"Ekta\"\n        ],\n        \"semantic_type\": \"\",\n        \"description\": \"\"\n      }\n    },\n    {\n      \"column\": \"No of Resident\",\n      \"properties\": {\n        \"dtype\": \"category\",\n        \"num_unique_values\": 9,\n        \"samples\": [\n          \"2\",\n          \"5\"\n        ],\n        \"semantic_type\": \"\",\n        \"description\": \"\"\n      }\n    },\n    {\n      \"column\": \"Confirmed Members\",\n      \"properties\": {\n        \"dtype\": \"category\",\n        \"num_unique_values\": 14,\n        \"samples\": [\n          \"11\",\n          \"0\"\n        ],\n        \"semantic_type\": \"\",\n        \"description\": \"\"\n      }\n    },\n    {\n      \"column\": \"Origin of Owner\",\n      \"properties\": {\n        \"dtype\": \"category\",\n        \"num_unique_values\": 17,\n        \"samples\": [\n          \"Maharashtra\",\n          \"Bangalore\"\n        ],\n        \"semantic_type\": \"\",\n        \"description\": \"\"\n      }\n    },\n    {\n      \"column\": \"Flat Area (sq.mt)\",\n      \"properties\": {\n        \"dtype\": \"number\",\n        \"std\": 43,\n        \"min\": 500,\n        \"max\": 600,\n        \"num_unique_values\": 3,\n        \"samples\": [\n          500,\n          550\n        ],\n        \"semantic_type\": \"\",\n        \"description\": \"\"\n      }\n    },\n    {\n      \"column\": \"No of Room\",\n      \"properties\": {\n        \"dtype\": \"number\",\n        \"std\": 0,\n        \"min\": 2,\n        \"max\": 3,\n        \"num_unique_values\": 2,\n        \"samples\": [\n          3,\n          2\n        ],\n        \"semantic_type\": \"\",\n        \"description\": \"\"\n      }\n    },\n    {\n      \"column\": \"Tenant or owner\",\n      \"properties\": {\n        \"dtype\": \"category\",\n        \"num_unique_values\": 4,\n        \"samples\": [\n          \"Tenant\",\n          \"owner\"\n        ],\n        \"semantic_type\": \"\",\n        \"description\": \"\"\n      }\n    },\n    {\n      \"column\": \"Maintenance Amt\",\n      \"properties\": {\n        \"dtype\": \"category\",\n        \"num_unique_values\": 4,\n        \"samples\": [\n          \"7000\",\n          \"-\"\n        ],\n        \"semantic_type\": \"\",\n        \"description\": \"\"\n      }\n    },\n    {\n      \"column\": \"Availlability of owner\",\n      \"properties\": {\n        \"dtype\": \"category\",\n        \"num_unique_values\": 3,\n        \"samples\": [\n          \"Yes\",\n          \"No\"\n        ],\n        \"semantic_type\": \"\",\n        \"description\": \"\"\n      }\n    },\n    {\n      \"column\": \"Flat Vacancy\",\n      \"properties\": {\n        \"dtype\": \"category\",\n        \"num_unique_values\": 3,\n        \"samples\": [\n          \"Owned\",\n          \"Vacant\"\n        ],\n        \"semantic_type\": \"\",\n        \"description\": \"\"\n      }\n    },\n    {\n      \"column\": \"Donation\",\n      \"properties\": {\n        \"dtype\": \"number\",\n        \"std\": 3228.1380733908236,\n        \"min\": 1000.0,\n        \"max\": 10000.0,\n        \"num_unique_values\": 6,\n        \"samples\": [\n          2500.0,\n          10000.0\n        ],\n        \"semantic_type\": \"\",\n        \"description\": \"\"\n      }\n    }\n  ]\n}"
            }
          },
          "metadata": {},
          "execution_count": 7
        }
      ]
    },
    {
      "cell_type": "markdown",
      "source": [
        "2. Getting a Summary of the Dataset: 📑\n",
        "\n",
        "To ensure data integrity, we perform a thorough data quality check. We examine data types to confirm that each column is assigned the appropriate data type (e.g., numeric, string, date).\n",
        "\n"
      ],
      "metadata": {
        "id": "ZOnisD2YCv2S"
      }
    },
    {
      "cell_type": "code",
      "source": [
        "df.info()"
      ],
      "metadata": {
        "colab": {
          "base_uri": "https://localhost:8080/"
        },
        "id": "0PGIuHPqCddy",
        "outputId": "8a0674a6-7eb6-49fc-cf97-7b5c5095aec5"
      },
      "execution_count": null,
      "outputs": [
        {
          "output_type": "stream",
          "name": "stdout",
          "text": [
            "<class 'pandas.core.frame.DataFrame'>\n",
            "RangeIndex: 60 entries, 0 to 59\n",
            "Data columns (total 15 columns):\n",
            " #   Column                  Non-Null Count  Dtype  \n",
            "---  ------                  --------------  -----  \n",
            " 0   Unnamed: 0              60 non-null     int64  \n",
            " 1   Flat no                 60 non-null     int64  \n",
            " 2   Wing                    60 non-null     object \n",
            " 3   Owner Name              60 non-null     object \n",
            " 4   Owner's Spouse Name     18 non-null     object \n",
            " 5   No of Resident          60 non-null     object \n",
            " 6   Confirmed Members       60 non-null     object \n",
            " 7   Origin of Owner         60 non-null     object \n",
            " 8   Flat Area (sq.mt)       60 non-null     int64  \n",
            " 9   No of Room              60 non-null     int64  \n",
            " 10  Tenant or owner         60 non-null     object \n",
            " 11  Maintenance Amt         32 non-null     object \n",
            " 12  Availlability of owner  60 non-null     object \n",
            " 13  Flat Vacancy            43 non-null     object \n",
            " 14  Donation                55 non-null     float64\n",
            "dtypes: float64(1), int64(4), object(10)\n",
            "memory usage: 7.2+ KB\n"
          ]
        }
      ]
    },
    {
      "cell_type": "markdown",
      "source": [
        "3. Descriptive Statistics:\n",
        "\n",
        "In this step, To gain insights into the dataset's numerical features, we calculate summary statistics for numeric columns.\n",
        "\n"
      ],
      "metadata": {
        "id": "O33eUqNKC7NY"
      }
    },
    {
      "cell_type": "code",
      "source": [
        "df.isna().sum()"
      ],
      "metadata": {
        "colab": {
          "base_uri": "https://localhost:8080/"
        },
        "id": "rF2Hm9WS6Fcy",
        "outputId": "bfb33fc1-cc4b-4d7f-f01a-2df93fb781d7"
      },
      "execution_count": null,
      "outputs": [
        {
          "output_type": "execute_result",
          "data": {
            "text/plain": [
              "Unnamed: 0                 0\n",
              "Flat no                    0\n",
              "Wing                       0\n",
              "Owner Name                 0\n",
              "Owner's Spouse Name       42\n",
              "No of Resident             0\n",
              "Confirmed Members          0\n",
              "Origin of Owner            0\n",
              "Flat Area (sq.mt)          0\n",
              "No of Room                 0\n",
              "Tenant or owner            0\n",
              "Maintenance Amt           28\n",
              "Availlability of owner     0\n",
              "Flat Vacancy              17\n",
              "Donation                   5\n",
              "dtype: int64"
            ]
          },
          "metadata": {},
          "execution_count": 9
        }
      ]
    },
    {
      "cell_type": "code",
      "source": [
        "df.isnull().sum()"
      ],
      "metadata": {
        "colab": {
          "base_uri": "https://localhost:8080/"
        },
        "id": "GFvwz_klCzeJ",
        "outputId": "e3894bfa-f008-4fa2-f724-e10fbf8d0d77"
      },
      "execution_count": null,
      "outputs": [
        {
          "output_type": "execute_result",
          "data": {
            "text/plain": [
              "Unnamed: 0                 0\n",
              "Flat no                    0\n",
              "Wing                       0\n",
              "Owner Name                 0\n",
              "Owner's Spouse Name       42\n",
              "No of Resident             0\n",
              "Confirmed Members          0\n",
              "Origin of Owner            0\n",
              "Flat Area (sq.mt)          0\n",
              "No of Room                 0\n",
              "Tenant or owner            0\n",
              "Maintenance Amt           28\n",
              "Availlability of owner     0\n",
              "Flat Vacancy              17\n",
              "Donation                   5\n",
              "dtype: int64"
            ]
          },
          "metadata": {},
          "execution_count": 10
        }
      ]
    },
    {
      "cell_type": "code",
      "source": [
        "df.duplicated().sum()"
      ],
      "metadata": {
        "colab": {
          "base_uri": "https://localhost:8080/"
        },
        "id": "TfbOlqk5ELTq",
        "outputId": "86e38aba-f65b-4c45-a323-517fe0fdaa3b"
      },
      "execution_count": null,
      "outputs": [
        {
          "output_type": "execute_result",
          "data": {
            "text/plain": [
              "0"
            ]
          },
          "metadata": {},
          "execution_count": 11
        }
      ]
    },
    {
      "cell_type": "code",
      "source": [
        "df.nunique()"
      ],
      "metadata": {
        "colab": {
          "base_uri": "https://localhost:8080/"
        },
        "id": "X5ZTiXCmEO7f",
        "outputId": "5f4e0b8e-ff3c-473f-bc24-816a72cd2ac9"
      },
      "execution_count": null,
      "outputs": [
        {
          "output_type": "execute_result",
          "data": {
            "text/plain": [
              "Unnamed: 0                60\n",
              "Flat no                   30\n",
              "Wing                       2\n",
              "Owner Name                51\n",
              "Owner's Spouse Name       12\n",
              "No of Resident             9\n",
              "Confirmed Members         14\n",
              "Origin of Owner           17\n",
              "Flat Area (sq.mt)          3\n",
              "No of Room                 2\n",
              "Tenant or owner            4\n",
              "Maintenance Amt            4\n",
              "Availlability of owner     3\n",
              "Flat Vacancy               3\n",
              "Donation                   6\n",
              "dtype: int64"
            ]
          },
          "metadata": {},
          "execution_count": 12
        }
      ]
    },
    {
      "cell_type": "code",
      "source": [
        "df[\"No of Resident\"].value_counts()"
      ],
      "metadata": {
        "colab": {
          "base_uri": "https://localhost:8080/"
        },
        "id": "bXmWlcCV5i-L",
        "outputId": "a49b2e26-4eab-41ba-d458-91ce9f1fffac"
      },
      "execution_count": null,
      "outputs": [
        {
          "output_type": "execute_result",
          "data": {
            "text/plain": [
              "No of Resident\n",
              "4    16\n",
              "5    13\n",
              "3    12\n",
              "2     7\n",
              "-     4\n",
              "7     3\n",
              "8     2\n",
              "6     2\n",
              "1     1\n",
              "Name: count, dtype: int64"
            ]
          },
          "metadata": {},
          "execution_count": 13
        }
      ]
    },
    {
      "cell_type": "code",
      "source": [
        "print()"
      ],
      "metadata": {
        "id": "pKdb5Cny-kCh",
        "colab": {
          "base_uri": "https://localhost:8080/"
        },
        "outputId": "c5203b6b-7311-483b-8f51-9bfc548129da"
      },
      "execution_count": null,
      "outputs": [
        {
          "output_type": "stream",
          "name": "stdout",
          "text": [
            "\n"
          ]
        }
      ]
    },
    {
      "cell_type": "code",
      "source": [
        "df.describe()"
      ],
      "metadata": {
        "colab": {
          "base_uri": "https://localhost:8080/",
          "height": 300
        },
        "id": "gCIfsuRCEQ2r",
        "outputId": "913bc6f9-9afb-4f16-f934-e6c6f30c5216"
      },
      "execution_count": null,
      "outputs": [
        {
          "output_type": "execute_result",
          "data": {
            "text/plain": [
              "       Unnamed: 0      Flat no  Flat Area (sq.mt)  No of Room      Donation\n",
              "count   60.000000    60.000000          60.000000   60.000000     55.000000\n",
              "mean    29.500000   552.000000         554.166667    2.416667   4136.363636\n",
              "std     17.464249   289.653212          43.464057    0.497167   3228.138073\n",
              "min      0.000000   101.000000         500.000000    2.000000   1000.000000\n",
              "25%     14.750000   302.000000         500.000000    2.000000   1500.000000\n",
              "50%     29.500000   552.000000         550.000000    2.000000   2500.000000\n",
              "75%     44.250000   802.000000         600.000000    3.000000   6000.000000\n",
              "max     59.000000  1003.000000         600.000000    3.000000  10000.000000"
            ],
            "text/html": [
              "\n",
              "  <div id=\"df-5f06bb8a-3ad9-46a4-85bb-2ea2e53bc853\" class=\"colab-df-container\">\n",
              "    <div>\n",
              "<style scoped>\n",
              "    .dataframe tbody tr th:only-of-type {\n",
              "        vertical-align: middle;\n",
              "    }\n",
              "\n",
              "    .dataframe tbody tr th {\n",
              "        vertical-align: top;\n",
              "    }\n",
              "\n",
              "    .dataframe thead th {\n",
              "        text-align: right;\n",
              "    }\n",
              "</style>\n",
              "<table border=\"1\" class=\"dataframe\">\n",
              "  <thead>\n",
              "    <tr style=\"text-align: right;\">\n",
              "      <th></th>\n",
              "      <th>Unnamed: 0</th>\n",
              "      <th>Flat no</th>\n",
              "      <th>Flat Area (sq.mt)</th>\n",
              "      <th>No of Room</th>\n",
              "      <th>Donation</th>\n",
              "    </tr>\n",
              "  </thead>\n",
              "  <tbody>\n",
              "    <tr>\n",
              "      <th>count</th>\n",
              "      <td>60.000000</td>\n",
              "      <td>60.000000</td>\n",
              "      <td>60.000000</td>\n",
              "      <td>60.000000</td>\n",
              "      <td>55.000000</td>\n",
              "    </tr>\n",
              "    <tr>\n",
              "      <th>mean</th>\n",
              "      <td>29.500000</td>\n",
              "      <td>552.000000</td>\n",
              "      <td>554.166667</td>\n",
              "      <td>2.416667</td>\n",
              "      <td>4136.363636</td>\n",
              "    </tr>\n",
              "    <tr>\n",
              "      <th>std</th>\n",
              "      <td>17.464249</td>\n",
              "      <td>289.653212</td>\n",
              "      <td>43.464057</td>\n",
              "      <td>0.497167</td>\n",
              "      <td>3228.138073</td>\n",
              "    </tr>\n",
              "    <tr>\n",
              "      <th>min</th>\n",
              "      <td>0.000000</td>\n",
              "      <td>101.000000</td>\n",
              "      <td>500.000000</td>\n",
              "      <td>2.000000</td>\n",
              "      <td>1000.000000</td>\n",
              "    </tr>\n",
              "    <tr>\n",
              "      <th>25%</th>\n",
              "      <td>14.750000</td>\n",
              "      <td>302.000000</td>\n",
              "      <td>500.000000</td>\n",
              "      <td>2.000000</td>\n",
              "      <td>1500.000000</td>\n",
              "    </tr>\n",
              "    <tr>\n",
              "      <th>50%</th>\n",
              "      <td>29.500000</td>\n",
              "      <td>552.000000</td>\n",
              "      <td>550.000000</td>\n",
              "      <td>2.000000</td>\n",
              "      <td>2500.000000</td>\n",
              "    </tr>\n",
              "    <tr>\n",
              "      <th>75%</th>\n",
              "      <td>44.250000</td>\n",
              "      <td>802.000000</td>\n",
              "      <td>600.000000</td>\n",
              "      <td>3.000000</td>\n",
              "      <td>6000.000000</td>\n",
              "    </tr>\n",
              "    <tr>\n",
              "      <th>max</th>\n",
              "      <td>59.000000</td>\n",
              "      <td>1003.000000</td>\n",
              "      <td>600.000000</td>\n",
              "      <td>3.000000</td>\n",
              "      <td>10000.000000</td>\n",
              "    </tr>\n",
              "  </tbody>\n",
              "</table>\n",
              "</div>\n",
              "    <div class=\"colab-df-buttons\">\n",
              "\n",
              "  <div class=\"colab-df-container\">\n",
              "    <button class=\"colab-df-convert\" onclick=\"convertToInteractive('df-5f06bb8a-3ad9-46a4-85bb-2ea2e53bc853')\"\n",
              "            title=\"Convert this dataframe to an interactive table.\"\n",
              "            style=\"display:none;\">\n",
              "\n",
              "  <svg xmlns=\"http://www.w3.org/2000/svg\" height=\"24px\" viewBox=\"0 -960 960 960\">\n",
              "    <path d=\"M120-120v-720h720v720H120Zm60-500h600v-160H180v160Zm220 220h160v-160H400v160Zm0 220h160v-160H400v160ZM180-400h160v-160H180v160Zm440 0h160v-160H620v160ZM180-180h160v-160H180v160Zm440 0h160v-160H620v160Z\"/>\n",
              "  </svg>\n",
              "    </button>\n",
              "\n",
              "  <style>\n",
              "    .colab-df-container {\n",
              "      display:flex;\n",
              "      gap: 12px;\n",
              "    }\n",
              "\n",
              "    .colab-df-convert {\n",
              "      background-color: #E8F0FE;\n",
              "      border: none;\n",
              "      border-radius: 50%;\n",
              "      cursor: pointer;\n",
              "      display: none;\n",
              "      fill: #1967D2;\n",
              "      height: 32px;\n",
              "      padding: 0 0 0 0;\n",
              "      width: 32px;\n",
              "    }\n",
              "\n",
              "    .colab-df-convert:hover {\n",
              "      background-color: #E2EBFA;\n",
              "      box-shadow: 0px 1px 2px rgba(60, 64, 67, 0.3), 0px 1px 3px 1px rgba(60, 64, 67, 0.15);\n",
              "      fill: #174EA6;\n",
              "    }\n",
              "\n",
              "    .colab-df-buttons div {\n",
              "      margin-bottom: 4px;\n",
              "    }\n",
              "\n",
              "    [theme=dark] .colab-df-convert {\n",
              "      background-color: #3B4455;\n",
              "      fill: #D2E3FC;\n",
              "    }\n",
              "\n",
              "    [theme=dark] .colab-df-convert:hover {\n",
              "      background-color: #434B5C;\n",
              "      box-shadow: 0px 1px 3px 1px rgba(0, 0, 0, 0.15);\n",
              "      filter: drop-shadow(0px 1px 2px rgba(0, 0, 0, 0.3));\n",
              "      fill: #FFFFFF;\n",
              "    }\n",
              "  </style>\n",
              "\n",
              "    <script>\n",
              "      const buttonEl =\n",
              "        document.querySelector('#df-5f06bb8a-3ad9-46a4-85bb-2ea2e53bc853 button.colab-df-convert');\n",
              "      buttonEl.style.display =\n",
              "        google.colab.kernel.accessAllowed ? 'block' : 'none';\n",
              "\n",
              "      async function convertToInteractive(key) {\n",
              "        const element = document.querySelector('#df-5f06bb8a-3ad9-46a4-85bb-2ea2e53bc853');\n",
              "        const dataTable =\n",
              "          await google.colab.kernel.invokeFunction('convertToInteractive',\n",
              "                                                    [key], {});\n",
              "        if (!dataTable) return;\n",
              "\n",
              "        const docLinkHtml = 'Like what you see? Visit the ' +\n",
              "          '<a target=\"_blank\" href=https://colab.research.google.com/notebooks/data_table.ipynb>data table notebook</a>'\n",
              "          + ' to learn more about interactive tables.';\n",
              "        element.innerHTML = '';\n",
              "        dataTable['output_type'] = 'display_data';\n",
              "        await google.colab.output.renderOutput(dataTable, element);\n",
              "        const docLink = document.createElement('div');\n",
              "        docLink.innerHTML = docLinkHtml;\n",
              "        element.appendChild(docLink);\n",
              "      }\n",
              "    </script>\n",
              "  </div>\n",
              "\n",
              "\n",
              "<div id=\"df-dd6f7cef-6f0c-44b3-ac62-c65f189835b9\">\n",
              "  <button class=\"colab-df-quickchart\" onclick=\"quickchart('df-dd6f7cef-6f0c-44b3-ac62-c65f189835b9')\"\n",
              "            title=\"Suggest charts\"\n",
              "            style=\"display:none;\">\n",
              "\n",
              "<svg xmlns=\"http://www.w3.org/2000/svg\" height=\"24px\"viewBox=\"0 0 24 24\"\n",
              "     width=\"24px\">\n",
              "    <g>\n",
              "        <path d=\"M19 3H5c-1.1 0-2 .9-2 2v14c0 1.1.9 2 2 2h14c1.1 0 2-.9 2-2V5c0-1.1-.9-2-2-2zM9 17H7v-7h2v7zm4 0h-2V7h2v10zm4 0h-2v-4h2v4z\"/>\n",
              "    </g>\n",
              "</svg>\n",
              "  </button>\n",
              "\n",
              "<style>\n",
              "  .colab-df-quickchart {\n",
              "      --bg-color: #E8F0FE;\n",
              "      --fill-color: #1967D2;\n",
              "      --hover-bg-color: #E2EBFA;\n",
              "      --hover-fill-color: #174EA6;\n",
              "      --disabled-fill-color: #AAA;\n",
              "      --disabled-bg-color: #DDD;\n",
              "  }\n",
              "\n",
              "  [theme=dark] .colab-df-quickchart {\n",
              "      --bg-color: #3B4455;\n",
              "      --fill-color: #D2E3FC;\n",
              "      --hover-bg-color: #434B5C;\n",
              "      --hover-fill-color: #FFFFFF;\n",
              "      --disabled-bg-color: #3B4455;\n",
              "      --disabled-fill-color: #666;\n",
              "  }\n",
              "\n",
              "  .colab-df-quickchart {\n",
              "    background-color: var(--bg-color);\n",
              "    border: none;\n",
              "    border-radius: 50%;\n",
              "    cursor: pointer;\n",
              "    display: none;\n",
              "    fill: var(--fill-color);\n",
              "    height: 32px;\n",
              "    padding: 0;\n",
              "    width: 32px;\n",
              "  }\n",
              "\n",
              "  .colab-df-quickchart:hover {\n",
              "    background-color: var(--hover-bg-color);\n",
              "    box-shadow: 0 1px 2px rgba(60, 64, 67, 0.3), 0 1px 3px 1px rgba(60, 64, 67, 0.15);\n",
              "    fill: var(--button-hover-fill-color);\n",
              "  }\n",
              "\n",
              "  .colab-df-quickchart-complete:disabled,\n",
              "  .colab-df-quickchart-complete:disabled:hover {\n",
              "    background-color: var(--disabled-bg-color);\n",
              "    fill: var(--disabled-fill-color);\n",
              "    box-shadow: none;\n",
              "  }\n",
              "\n",
              "  .colab-df-spinner {\n",
              "    border: 2px solid var(--fill-color);\n",
              "    border-color: transparent;\n",
              "    border-bottom-color: var(--fill-color);\n",
              "    animation:\n",
              "      spin 1s steps(1) infinite;\n",
              "  }\n",
              "\n",
              "  @keyframes spin {\n",
              "    0% {\n",
              "      border-color: transparent;\n",
              "      border-bottom-color: var(--fill-color);\n",
              "      border-left-color: var(--fill-color);\n",
              "    }\n",
              "    20% {\n",
              "      border-color: transparent;\n",
              "      border-left-color: var(--fill-color);\n",
              "      border-top-color: var(--fill-color);\n",
              "    }\n",
              "    30% {\n",
              "      border-color: transparent;\n",
              "      border-left-color: var(--fill-color);\n",
              "      border-top-color: var(--fill-color);\n",
              "      border-right-color: var(--fill-color);\n",
              "    }\n",
              "    40% {\n",
              "      border-color: transparent;\n",
              "      border-right-color: var(--fill-color);\n",
              "      border-top-color: var(--fill-color);\n",
              "    }\n",
              "    60% {\n",
              "      border-color: transparent;\n",
              "      border-right-color: var(--fill-color);\n",
              "    }\n",
              "    80% {\n",
              "      border-color: transparent;\n",
              "      border-right-color: var(--fill-color);\n",
              "      border-bottom-color: var(--fill-color);\n",
              "    }\n",
              "    90% {\n",
              "      border-color: transparent;\n",
              "      border-bottom-color: var(--fill-color);\n",
              "    }\n",
              "  }\n",
              "</style>\n",
              "\n",
              "  <script>\n",
              "    async function quickchart(key) {\n",
              "      const quickchartButtonEl =\n",
              "        document.querySelector('#' + key + ' button');\n",
              "      quickchartButtonEl.disabled = true;  // To prevent multiple clicks.\n",
              "      quickchartButtonEl.classList.add('colab-df-spinner');\n",
              "      try {\n",
              "        const charts = await google.colab.kernel.invokeFunction(\n",
              "            'suggestCharts', [key], {});\n",
              "      } catch (error) {\n",
              "        console.error('Error during call to suggestCharts:', error);\n",
              "      }\n",
              "      quickchartButtonEl.classList.remove('colab-df-spinner');\n",
              "      quickchartButtonEl.classList.add('colab-df-quickchart-complete');\n",
              "    }\n",
              "    (() => {\n",
              "      let quickchartButtonEl =\n",
              "        document.querySelector('#df-dd6f7cef-6f0c-44b3-ac62-c65f189835b9 button');\n",
              "      quickchartButtonEl.style.display =\n",
              "        google.colab.kernel.accessAllowed ? 'block' : 'none';\n",
              "    })();\n",
              "  </script>\n",
              "</div>\n",
              "\n",
              "    </div>\n",
              "  </div>\n"
            ],
            "application/vnd.google.colaboratory.intrinsic+json": {
              "type": "dataframe",
              "summary": "{\n  \"name\": \"df\",\n  \"rows\": 8,\n  \"fields\": [\n    {\n      \"column\": \"Unnamed: 0\",\n      \"properties\": {\n        \"dtype\": \"number\",\n        \"std\": 21.408003293505015,\n        \"min\": 0.0,\n        \"max\": 60.0,\n        \"num_unique_values\": 7,\n        \"samples\": [\n          60.0,\n          29.5,\n          44.25\n        ],\n        \"semantic_type\": \"\",\n        \"description\": \"\"\n      }\n    },\n    {\n      \"column\": \"Flat no\",\n      \"properties\": {\n        \"dtype\": \"number\",\n        \"std\": 331.9986989437566,\n        \"min\": 60.0,\n        \"max\": 1003.0,\n        \"num_unique_values\": 7,\n        \"samples\": [\n          60.0,\n          552.0,\n          802.0\n        ],\n        \"semantic_type\": \"\",\n        \"description\": \"\"\n      }\n    },\n    {\n      \"column\": \"Flat Area (sq.mt)\",\n      \"properties\": {\n        \"dtype\": \"number\",\n        \"std\": 234.0929072911968,\n        \"min\": 43.464057493350886,\n        \"max\": 600.0,\n        \"num_unique_values\": 6,\n        \"samples\": [\n          60.0,\n          554.1666666666666,\n          600.0\n        ],\n        \"semantic_type\": \"\",\n        \"description\": \"\"\n      }\n    },\n    {\n      \"column\": \"No of Room\",\n      \"properties\": {\n        \"dtype\": \"number\",\n        \"std\": 20.474992207975788,\n        \"min\": 0.4971671160112441,\n        \"max\": 60.0,\n        \"num_unique_values\": 5,\n        \"samples\": [\n          2.4166666666666665,\n          3.0,\n          0.4971671160112441\n        ],\n        \"semantic_type\": \"\",\n        \"description\": \"\"\n      }\n    },\n    {\n      \"column\": \"Donation\",\n      \"properties\": {\n        \"dtype\": \"number\",\n        \"std\": 3208.802510823374,\n        \"min\": 55.0,\n        \"max\": 10000.0,\n        \"num_unique_values\": 8,\n        \"samples\": [\n          4136.363636363636,\n          2500.0,\n          55.0\n        ],\n        \"semantic_type\": \"\",\n        \"description\": \"\"\n      }\n    }\n  ]\n}"
            }
          },
          "metadata": {},
          "execution_count": 15
        }
      ]
    },
    {
      "cell_type": "code",
      "source": [
        "df.shape"
      ],
      "metadata": {
        "colab": {
          "base_uri": "https://localhost:8080/"
        },
        "id": "3BXMUmfLEnQa",
        "outputId": "222a26ef-694c-4896-a569-aedaddd40585"
      },
      "execution_count": null,
      "outputs": [
        {
          "output_type": "execute_result",
          "data": {
            "text/plain": [
              "(60, 15)"
            ]
          },
          "metadata": {},
          "execution_count": 16
        }
      ]
    },
    {
      "cell_type": "markdown",
      "source": [
        "Task 2: Data Cleaning\n",
        "1. Replace \"_\" with NaN in the entire DataFrame:\n",
        "\n",
        "We begin by addressing missing data. In our dataset, missing values are represented as underscores. We'll replace these underscores with NaN (Not-a-Number) values using the replace function to facilitate further data processing. ✅\n",
        "\n"
      ],
      "metadata": {
        "id": "D2hJzH4WSE5E"
      }
    },
    {
      "cell_type": "code",
      "source": [
        "#df['your_column_name'] = df['your_column_name'].replace(np.nan, None)\n",
        "# Replace NaN with 0 for the entire DataFrame\n",
        "df = df.fillna(\"_\")\n",
        "\n",
        "# Or replace NaN with 0 for a specific column (replace 'your_column_name' accordingly)\n",
        "#df['your_column_name'] = df['your_column_name'].fillna(0)"
      ],
      "metadata": {
        "id": "Pfa1GRcMRyWP"
      },
      "execution_count": null,
      "outputs": []
    },
    {
      "cell_type": "code",
      "source": [
        "df.isnull().sum()"
      ],
      "metadata": {
        "colab": {
          "base_uri": "https://localhost:8080/"
        },
        "id": "jI1bhwW5I9p6",
        "outputId": "fc682375-7d9e-44b2-ea0e-006cc9ea1128"
      },
      "execution_count": null,
      "outputs": [
        {
          "output_type": "execute_result",
          "data": {
            "text/plain": [
              "Unnamed: 0                0\n",
              "Flat no                   0\n",
              "Wing                      0\n",
              "Owner Name                0\n",
              "Owner's Spouse Name       0\n",
              "No of Resident            0\n",
              "Confirmed Members         0\n",
              "Origin of Owner           0\n",
              "Flat Area (sq.mt)         0\n",
              "No of Room                0\n",
              "Tenant or owner           0\n",
              "Maintenance Amt           0\n",
              "Availlability of owner    0\n",
              "Flat Vacancy              0\n",
              "Donation                  0\n",
              "dtype: int64"
            ]
          },
          "metadata": {},
          "execution_count": 18
        }
      ]
    },
    {
      "cell_type": "code",
      "source": [
        "df[\"No of Resident\"].value_counts()"
      ],
      "metadata": {
        "colab": {
          "base_uri": "https://localhost:8080/"
        },
        "id": "EuUtNk_RJGar",
        "outputId": "e21ddefc-7476-46be-be21-84785ee5cf40"
      },
      "execution_count": null,
      "outputs": [
        {
          "output_type": "execute_result",
          "data": {
            "text/plain": [
              "No of Resident\n",
              "4    16\n",
              "5    13\n",
              "3    12\n",
              "2     7\n",
              "-     4\n",
              "7     3\n",
              "8     2\n",
              "6     2\n",
              "1     1\n",
              "Name: count, dtype: int64"
            ]
          },
          "metadata": {},
          "execution_count": 19
        }
      ]
    },
    {
      "cell_type": "code",
      "source": [
        "df[\"Owner's Spouse Name\"].value_counts()"
      ],
      "metadata": {
        "colab": {
          "base_uri": "https://localhost:8080/"
        },
        "id": "pUo1Cu4mJKkk",
        "outputId": "a054c8b3-19fe-4397-eb2e-f6a71d36ab5c"
      },
      "execution_count": null,
      "outputs": [
        {
          "output_type": "execute_result",
          "data": {
            "text/plain": [
              "Owner's Spouse Name\n",
              "_          42\n",
              "-           7\n",
              "Parul       1\n",
              "Shashi      1\n",
              "Sneha       1\n",
              "Nisha       1\n",
              "Raghav      1\n",
              "Vimesh      1\n",
              "Chanda      1\n",
              "Deeksha     1\n",
              "Ekta        1\n",
              "Anjali      1\n",
              "Suman       1\n",
              "Name: count, dtype: int64"
            ]
          },
          "metadata": {},
          "execution_count": 20
        }
      ]
    },
    {
      "cell_type": "code",
      "source": [],
      "metadata": {
        "id": "nr57sj1DJLKs"
      },
      "execution_count": null,
      "outputs": []
    },
    {
      "cell_type": "markdown",
      "source": [
        "2. Handling Missing Values:\n",
        "\n",
        "We identify and remove two columns, 'Unnamed: 0' and 'Owner's Spouse Name,' as they are not relevant to our analysis. Dropping unnecessary columns helps simplify the dataset.\n",
        "\n"
      ],
      "metadata": {
        "id": "isk2bf9bSPwF"
      }
    },
    {
      "cell_type": "code",
      "source": [
        "columns_to_drop = [\"Unnamed: 0\", \"Owner's Spouse Name\"]\n",
        "df.drop(columns=columns_to_drop, inplace=True)"
      ],
      "metadata": {
        "id": "lO6P7pW1gTOZ"
      },
      "execution_count": null,
      "outputs": []
    },
    {
      "cell_type": "markdown",
      "source": [
        "3. 3. Data Type Conversion:\n",
        "\n",
        "We ensure that relevant columns are of the correct data types for analysis. Specifically, we convert 'No of Resident' and 'Confirmed Members' columns to numeric data types while handling any conversion errors by setting them to NaN.\n",
        "\n"
      ],
      "metadata": {
        "id": "7AMwGhorgTjw"
      }
    },
    {
      "cell_type": "code",
      "source": [
        "df.info()"
      ],
      "metadata": {
        "colab": {
          "base_uri": "https://localhost:8080/"
        },
        "id": "x1BY-wneJZ7o",
        "outputId": "488026c9-feec-47fb-a5be-1c7dded2accd"
      },
      "execution_count": null,
      "outputs": [
        {
          "output_type": "stream",
          "name": "stdout",
          "text": [
            "<class 'pandas.core.frame.DataFrame'>\n",
            "RangeIndex: 60 entries, 0 to 59\n",
            "Data columns (total 13 columns):\n",
            " #   Column                  Non-Null Count  Dtype \n",
            "---  ------                  --------------  ----- \n",
            " 0   Flat no                 60 non-null     int64 \n",
            " 1   Wing                    60 non-null     object\n",
            " 2   Owner Name              60 non-null     object\n",
            " 3   No of Resident          60 non-null     object\n",
            " 4   Confirmed Members       60 non-null     object\n",
            " 5   Origin of Owner         60 non-null     object\n",
            " 6   Flat Area (sq.mt)       60 non-null     int64 \n",
            " 7   No of Room              60 non-null     int64 \n",
            " 8   Tenant or owner         60 non-null     object\n",
            " 9   Maintenance Amt         60 non-null     object\n",
            " 10  Availlability of owner  60 non-null     object\n",
            " 11  Flat Vacancy            60 non-null     object\n",
            " 12  Donation                60 non-null     object\n",
            "dtypes: int64(3), object(10)\n",
            "memory usage: 6.2+ KB\n"
          ]
        }
      ]
    },
    {
      "cell_type": "code",
      "source": [
        "# Convert 'No of Resident' and 'Confirmed Members' columns to numeric Using pd.to_numeric(): If the values in these columns are numeric (but currently stored as strings), you can use pd.to_numeric() to convert them to integers. This function will handle non-numeric values gracefully by converting them to NaN.\n",
        "df['No of Resident'] = pd.to_numeric(df['No of Resident'], errors='coerce').astype('Int64')\n",
        "df['Confirmed Members'] = pd.to_numeric(df['Confirmed Members'], errors='coerce').astype('Int64')\n",
        "df['Maintenance Amt'] = pd.to_numeric(df['Maintenance Amt'], errors='coerce').astype('Int64')\n",
        "\n",
        "#Using astype(): You can use the astype() method to explicitly convert the data type of specific columns. Here’s how you can do it:\n",
        "#df['No of Resident'] = df['No of Resident'].astype(int)\n",
        "#df['Confirmed Members'] = df['Confirmed Members'].astype(int)"
      ],
      "metadata": {
        "id": "QaYaUazEgT_t"
      },
      "execution_count": null,
      "outputs": []
    },
    {
      "cell_type": "markdown",
      "source": [
        "4. Impute Missing Values in\n",
        "\n",
        " 'Maintenance Amt' , ‘Flat Vacancy’, 'Donation', ‘No of Resident' , 'Confirmed Members', 'Availability of owner' and 'Origin of Owner'\n",
        "\n",
        "\n",
        "\n",
        "\n"
      ],
      "metadata": {
        "id": "9f_ATQUVgVbO"
      }
    },
    {
      "cell_type": "markdown",
      "source": [
        "We handle missing values in the 'Flat Vacancy' column by using a conditional approach. If 'Availability of owner' is 'Yes,' we assume the flat is owned ('Flat Vacancy' is 'Owned'), and if 'Availability of owner' is not 'Yes,' we consider the flat as vacant ('Flat Vacancy' is 'Vacant')."
      ],
      "metadata": {
        "id": "nDGQvqc6MDkT"
      }
    },
    {
      "cell_type": "code",
      "source": [
        "df[\"Flat Vacancy\"].value_counts()"
      ],
      "metadata": {
        "colab": {
          "base_uri": "https://localhost:8080/"
        },
        "id": "wCFzjItuoKbW",
        "outputId": "908e6659-05fd-41a2-d82b-0f6b35a255d4"
      },
      "execution_count": null,
      "outputs": [
        {
          "output_type": "execute_result",
          "data": {
            "text/plain": [
              "Flat Vacancy\n",
              "Vacant    38\n",
              "Owned     22\n",
              "Name: count, dtype: int64"
            ]
          },
          "metadata": {},
          "execution_count": 49
        }
      ]
    },
    {
      "cell_type": "code",
      "source": [
        "# Define a function to handle missing values in 'Flat Vacancy'\n",
        "def handle_missing_vacancy(row):\n",
        "    if pd.isnull(row['Flat Vacancy']) or row['Flat Vacancy'] in ['_', '-']:\n",
        "        if row['Availlability of owner'] == 'Owned':\n",
        "            return 'Owned'\n",
        "        else:\n",
        "            return 'Vacant'\n",
        "    else:\n",
        "        return row['Flat Vacancy']\n",
        "\n",
        "# Apply the function to fill missing values in 'Flat Vacancy'\n",
        "df['Flat Vacancy'] = df.apply(handle_missing_vacancy, axis=1)\n"
      ],
      "metadata": {
        "id": "Vw6C3tVWMQRh"
      },
      "execution_count": null,
      "outputs": []
    },
    {
      "cell_type": "markdown",
      "source": [
        "For missing values in the 'Donation', ‘No of Resident' , 'Confirmed Members' column, we impute them with the median value of the respective column.\n"
      ],
      "metadata": {
        "id": "WnzqUc_bMQjJ"
      }
    },
    {
      "cell_type": "code",
      "source": [
        "df[\"Donation\"].value_counts()"
      ],
      "metadata": {
        "colab": {
          "base_uri": "https://localhost:8080/"
        },
        "id": "Qj6a3FYWoVrC",
        "outputId": "0daf705b-e1eb-4822-da90-6ab953f3d0c6"
      },
      "execution_count": null,
      "outputs": [
        {
          "output_type": "execute_result",
          "data": {
            "text/plain": [
              "Donation\n",
              "2500.0     18\n",
              "10000.0    10\n",
              "1500.0     10\n",
              "1000.0      9\n",
              "5000.0      7\n",
              "6000.0      6\n",
              "Name: count, dtype: int64"
            ]
          },
          "metadata": {},
          "execution_count": 34
        }
      ]
    },
    {
      "cell_type": "code",
      "source": [
        "df[\"No of Resident\"].value_counts()"
      ],
      "metadata": {
        "colab": {
          "base_uri": "https://localhost:8080/"
        },
        "id": "ccbRDflvobYJ",
        "outputId": "a4dd4562-5c68-48dd-fb6d-e8f1423be7c6"
      },
      "execution_count": null,
      "outputs": [
        {
          "output_type": "execute_result",
          "data": {
            "text/plain": [
              "No of Resident\n",
              "4    16\n",
              "5    13\n",
              "3    12\n",
              "2     7\n",
              "7     3\n",
              "8     2\n",
              "6     2\n",
              "1     1\n",
              "Name: count, dtype: Int64"
            ]
          },
          "metadata": {},
          "execution_count": 35
        }
      ]
    },
    {
      "cell_type": "code",
      "source": [
        "df[\"Confirmed Members\"].value_counts()"
      ],
      "metadata": {
        "colab": {
          "base_uri": "https://localhost:8080/"
        },
        "id": "0bBtVduBorxz",
        "outputId": "bc4816d2-dadc-4b8b-837d-a3b6077e170d"
      },
      "execution_count": null,
      "outputs": [
        {
          "output_type": "execute_result",
          "data": {
            "text/plain": [
              "Confirmed Members\n",
              "2     16\n",
              "4     13\n",
              "3     11\n",
              "1      4\n",
              "6      2\n",
              "8      2\n",
              "0      2\n",
              "15     1\n",
              "20     1\n",
              "11     1\n",
              "9      1\n",
              "7      1\n",
              "5      1\n",
              "Name: count, dtype: Int64"
            ]
          },
          "metadata": {},
          "execution_count": 36
        }
      ]
    },
    {
      "cell_type": "code",
      "source": [
        "df[\"Availlability of owner\"].value_counts()"
      ],
      "metadata": {
        "colab": {
          "base_uri": "https://localhost:8080/"
        },
        "id": "bXJHqFXtpWOf",
        "outputId": "8646cd12-eeef-46f3-e7e3-2ff657211551"
      },
      "execution_count": null,
      "outputs": [
        {
          "output_type": "execute_result",
          "data": {
            "text/plain": [
              "Availlability of owner\n",
              "No     31\n",
              "Yes    29\n",
              "Name: count, dtype: int64"
            ]
          },
          "metadata": {},
          "execution_count": 37
        }
      ]
    },
    {
      "cell_type": "code",
      "source": [
        "df[\"Origin of Owner\"].value_counts()"
      ],
      "metadata": {
        "colab": {
          "base_uri": "https://localhost:8080/"
        },
        "id": "SEsFmTSjph92",
        "outputId": "52c457b4-82ed-40d4-e3ec-1dd47e42494c"
      },
      "execution_count": null,
      "outputs": [
        {
          "output_type": "execute_result",
          "data": {
            "text/plain": [
              "Origin of Owner\n",
              "Maharashtra       16\n",
              "Kerala             6\n",
              "Rajasthan          5\n",
              "Madhya Pradesh     4\n",
              "Tamil Nadu         4\n",
              "Haryana            4\n",
              "Gujarat            3\n",
              "Karnataka          3\n",
              "Delhi              3\n",
              "Punjab             3\n",
              "Bangalore          2\n",
              "Gujurat            2\n",
              "Uttar Pradesh      2\n",
              "Andhra Pradesh     1\n",
              "Kashmir            1\n",
              "Assam              1\n",
              "Name: count, dtype: int64"
            ]
          },
          "metadata": {},
          "execution_count": 38
        }
      ]
    },
    {
      "cell_type": "code",
      "source": [
        "df['Availlability of owner'] = df['Availlability of owner'].replace('-', pd.NA)\n",
        "df['Origin of Owner'] = df['Origin of Owner'].replace('-', pd.NA)\n",
        "df['Donation'] = df['Donation'].replace('_', pd.NA)\n",
        "\n",
        "mode_value = df['Availlability of owner'].mode()[0]\n",
        "\n",
        "# Fill missing values with the mode value\n",
        "df['Availlability of owner'] = df['Availlability of owner'].fillna(mode_value)\n",
        "df['Origin of Owner'] = df['Origin of Owner'].fillna(df['Origin of Owner'].mode()[0])\n",
        "df['Donation'] = df['Donation'].fillna(df['Donation'].mode()[0])"
      ],
      "metadata": {
        "id": "6aKjmfwzpwFF"
      },
      "execution_count": null,
      "outputs": []
    },
    {
      "cell_type": "markdown",
      "source": [
        "5. To address missing values in the 'Maintenance Amt' column, we iteratively go through the DataFrame. For each missing value, we impute it based on the corresponding 'Flat Area (sq.mt)' value. We reference a previously calculated dictionary, 'avg_maintenance_amt,' to fill in these values\n"
      ],
      "metadata": {
        "id": "NzSU8lliow1l"
      }
    },
    {
      "cell_type": "code",
      "source": [
        "df[\"Flat Area (sq.mt)\"].value_counts()"
      ],
      "metadata": {
        "id": "h6yRzKb9gV5U",
        "colab": {
          "base_uri": "https://localhost:8080/"
        },
        "outputId": "8d878abd-bd44-4012-b69b-a249cd355604"
      },
      "execution_count": null,
      "outputs": [
        {
          "output_type": "execute_result",
          "data": {
            "text/plain": [
              "Flat Area (sq.mt)\n",
              "600    25\n",
              "500    20\n",
              "550    15\n",
              "Name: count, dtype: int64"
            ]
          },
          "metadata": {},
          "execution_count": 43
        }
      ]
    },
    {
      "cell_type": "code",
      "source": [
        "df[\"Maintenance Amt\"].value_counts()"
      ],
      "metadata": {
        "colab": {
          "base_uri": "https://localhost:8080/"
        },
        "id": "DKmQ-fKZKaQ8",
        "outputId": "b93c772f-4093-43e7-bf80-00235ec3161c"
      },
      "execution_count": null,
      "outputs": [
        {
          "output_type": "execute_result",
          "data": {
            "text/plain": [
              "Maintenance Amt\n",
              "7000    25\n",
              "6000    18\n",
              "5875    16\n",
              "5500     1\n",
              "Name: count, dtype: Int64"
            ]
          },
          "metadata": {},
          "execution_count": 44
        }
      ]
    },
    {
      "cell_type": "code",
      "source": [
        "avg_maintenance_amt = df.groupby('Flat Area (sq.mt)')['Maintenance Amt'].mean().to_dict()\n",
        "\n",
        "# Iterate through the DataFrame to impute missing values in 'Maintenance Amt'\n",
        "for index, row in df.iterrows():\n",
        "    if pd.isnull(row['Maintenance Amt']):\n",
        "        flat_area = row['Flat Area (sq.mt)']\n",
        "        if flat_area in avg_maintenance_amt:\n",
        "            df.at[index, 'Maintenance Amt'] = avg_maintenance_amt[flat_area]"
      ],
      "metadata": {
        "id": "bh28IhaTQuFG"
      },
      "execution_count": null,
      "outputs": []
    },
    {
      "cell_type": "markdown",
      "source": [
        "Calculate \"Outsiders\":\n",
        "Calculate the difference between the \"Confirmed Members\" and \"No of Resident\" columns and store the result in a new column called \"Outsiders.\"\n",
        "\n",
        "The 'Outsiders' column helps identify residents who are not part of the housing society but have confirmed their participation in the event, potentially impacting event logistics."
      ],
      "metadata": {
        "id": "mo0rHn6khgQu"
      }
    },
    {
      "cell_type": "code",
      "source": [
        "df['Outsiders'] = df['Confirmed Members'] - df['No of Resident']"
      ],
      "metadata": {
        "id": "OCwh8eYBhjY4"
      },
      "execution_count": null,
      "outputs": []
    },
    {
      "cell_type": "code",
      "source": [
        "print(df['Outsiders'])"
      ],
      "metadata": {
        "colab": {
          "base_uri": "https://localhost:8080/"
        },
        "id": "0Kl0HzuoZJTz",
        "outputId": "79729b61-cbc2-433f-9eb0-5f4d0b673726"
      },
      "execution_count": null,
      "outputs": [
        {
          "output_type": "stream",
          "name": "stdout",
          "text": [
            "0      0\n",
            "1      1\n",
            "2      0\n",
            "3      0\n",
            "4      8\n",
            "5      0\n",
            "6      0\n",
            "7      0\n",
            "8      0\n",
            "9      0\n",
            "10     0\n",
            "11    13\n",
            "12     0\n",
            "13     0\n",
            "14     0\n",
            "15     0\n",
            "16     0\n",
            "17     0\n",
            "18     0\n",
            "19     0\n",
            "20     0\n",
            "21     0\n",
            "22     0\n",
            "23     0\n",
            "24     0\n",
            "25     0\n",
            "26     0\n",
            "27     0\n",
            "28     0\n",
            "29     0\n",
            "30     0\n",
            "31     6\n",
            "32     0\n",
            "33     0\n",
            "34     0\n",
            "35     0\n",
            "36     0\n",
            "37     0\n",
            "38     0\n",
            "39     0\n",
            "40     4\n",
            "41     0\n",
            "42     0\n",
            "43     0\n",
            "44     0\n",
            "45     0\n",
            "46     0\n",
            "47     0\n",
            "48     0\n",
            "49     0\n",
            "50     0\n",
            "51     0\n",
            "52     0\n",
            "53     2\n",
            "54     1\n",
            "55     0\n",
            "56     0\n",
            "57     0\n",
            "58     0\n",
            "59     3\n",
            "Name: Outsiders, dtype: int64\n"
          ]
        }
      ]
    },
    {
      "cell_type": "markdown",
      "source": [
        "2. Set Values in \"Outsiders\" Column:\n",
        "\n",
        "In this step, you update the values in the \"Outsiders\" column. If the calculated difference is greater than zero (indicating that there are more confirmed members than residents), you set the value to x, indicating the number of outsiders.\n",
        "\n",
        "\n",
        "\n",
        " If the difference is less than or equal to zero (indicating that there are no more confirmed members than residents), you set the value to 0, indicating that the person is a resident.\n",
        "\n"
      ],
      "metadata": {
        "id": "TOXoE2uYhjpK"
      }
    },
    {
      "cell_type": "code",
      "source": [
        "df['Outsiders'] = df['Outsiders'].fillna(0)\n"
      ],
      "metadata": {
        "id": "CJ6QNNK7avsj"
      },
      "execution_count": null,
      "outputs": []
    },
    {
      "cell_type": "code",
      "source": [
        "df['Outsiders'] = df['Outsiders'].apply(lambda x: x if x > 0 else 0)"
      ],
      "metadata": {
        "id": "B28k_IS-hpe_"
      },
      "execution_count": null,
      "outputs": []
    },
    {
      "cell_type": "markdown",
      "source": [
        "3. Standardize Columns:\n",
        "\n",
        "You convert the values in the  'Origin of Owner', 'Tenant or owner', 'Availability of owner' and 'Flat Vacancy' columns to lowercase to ensure uniform formatting.\n",
        "\n",
        "\n",
        "Lastly, you standardize the 'Owner Name' column by converting it to title case to make names consistent and readable."
      ],
      "metadata": {
        "id": "yQYKBpIlhppc"
      }
    },
    {
      "cell_type": "code",
      "source": [
        "df['Origin of Owner'] = df['Origin of Owner'].str.lower()\n"
      ],
      "metadata": {
        "id": "AeFj3e-Smvhw"
      },
      "execution_count": null,
      "outputs": []
    },
    {
      "cell_type": "code",
      "source": [
        "df[\"Origin of Owner\"].value_counts()"
      ],
      "metadata": {
        "id": "cjxijqOLhqv2",
        "colab": {
          "base_uri": "https://localhost:8080/"
        },
        "outputId": "8b58621e-9dcd-46a9-b05c-d71c30c29103"
      },
      "execution_count": null,
      "outputs": [
        {
          "output_type": "execute_result",
          "data": {
            "text/plain": [
              "Origin of Owner\n",
              "maharashtra       16\n",
              "kerala             6\n",
              "rajasthan          5\n",
              "madhya pradesh     4\n",
              "tamil nadu         4\n",
              "haryana            4\n",
              "gujarat            3\n",
              "karnataka          3\n",
              "delhi              3\n",
              "punjab             3\n",
              "bangalore          2\n",
              "gujurat            2\n",
              "uttar pradesh      2\n",
              "andhra pradesh     1\n",
              "kashmir            1\n",
              "assam              1\n",
              "Name: count, dtype: int64"
            ]
          },
          "metadata": {},
          "execution_count": 57
        }
      ]
    },
    {
      "cell_type": "code",
      "source": [
        "df['Tenant or owner'] = df['Tenant or owner'].str.lower()\n"
      ],
      "metadata": {
        "id": "8wiWi7rMfL6Z"
      },
      "execution_count": null,
      "outputs": []
    },
    {
      "cell_type": "code",
      "source": [
        "df[\"Tenant or owner\"].value_counts()"
      ],
      "metadata": {
        "colab": {
          "base_uri": "https://localhost:8080/"
        },
        "id": "QYw9t1rxbNrd",
        "outputId": "1c03b861-e039-4f2a-a423-54f1d15679e5"
      },
      "execution_count": null,
      "outputs": [
        {
          "output_type": "execute_result",
          "data": {
            "text/plain": [
              "Tenant or owner\n",
              "owner     36\n",
              "tenant    24\n",
              "Name: count, dtype: int64"
            ]
          },
          "metadata": {},
          "execution_count": 59
        }
      ]
    },
    {
      "cell_type": "code",
      "source": [
        "df['Availlability of owner'] = df['Availlability of owner'].str.lower()\n"
      ],
      "metadata": {
        "id": "co6BiboFm45H"
      },
      "execution_count": null,
      "outputs": []
    },
    {
      "cell_type": "code",
      "source": [
        "df[\"Availlability of owner\"].value_counts()"
      ],
      "metadata": {
        "colab": {
          "base_uri": "https://localhost:8080/"
        },
        "id": "DBC0PGo4dbVP",
        "outputId": "3914084a-63c0-482a-ce62-6ab6b9915bd0"
      },
      "execution_count": null,
      "outputs": [
        {
          "output_type": "execute_result",
          "data": {
            "text/plain": [
              "Availlability of owner\n",
              "no     31\n",
              "yes    29\n",
              "Name: count, dtype: int64"
            ]
          },
          "metadata": {},
          "execution_count": 61
        }
      ]
    },
    {
      "cell_type": "code",
      "source": [
        "df['Flat Vacancy'] = df['Flat Vacancy'].str.lower()\n"
      ],
      "metadata": {
        "id": "E5cB61J9nF9x"
      },
      "execution_count": null,
      "outputs": []
    },
    {
      "cell_type": "code",
      "source": [
        "df[\"Flat Vacancy\"].value_counts()"
      ],
      "metadata": {
        "colab": {
          "base_uri": "https://localhost:8080/"
        },
        "id": "9NlDs7OTd2c4",
        "outputId": "7ea95458-58e5-41ba-f859-1bf93c492b78"
      },
      "execution_count": null,
      "outputs": [
        {
          "output_type": "execute_result",
          "data": {
            "text/plain": [
              "Flat Vacancy\n",
              "vacant    38\n",
              "owned     22\n",
              "Name: count, dtype: int64"
            ]
          },
          "metadata": {},
          "execution_count": 63
        }
      ]
    },
    {
      "cell_type": "code",
      "source": [
        "df['Owner Name'] = df['Owner Name'].str.upper()\n"
      ],
      "metadata": {
        "id": "XA9vE9YsmB2E"
      },
      "execution_count": null,
      "outputs": []
    },
    {
      "cell_type": "code",
      "source": [
        "df[\"Owner Name\"].value_counts()"
      ],
      "metadata": {
        "colab": {
          "base_uri": "https://localhost:8080/"
        },
        "id": "neLKG-o0d7EY",
        "outputId": "411a553a-52c6-4775-95ad-3b1d890442c0"
      },
      "execution_count": null,
      "outputs": [
        {
          "output_type": "execute_result",
          "data": {
            "text/plain": [
              "Owner Name\n",
              "ROHIT       2\n",
              "GOVIND      2\n",
              "REENA       2\n",
              "KARISHMA    2\n",
              "RAGESH      2\n",
              "HARSHAD     2\n",
              "ABDUL       2\n",
              "PRIYANKA    2\n",
              "BHAVANA     2\n",
              "POOJA       2\n",
              "KARAN       1\n",
              "SAMEER      1\n",
              "NEHA        1\n",
              "ANKITA      1\n",
              "OMI         1\n",
              "SURESH      1\n",
              "SHILPA      1\n",
              "OMKAR       1\n",
              "ROMIL       1\n",
              "SACHIN      1\n",
              "AMIT        1\n",
              "TANMAY      1\n",
              "ASHISH      1\n",
              "LOKESH      1\n",
              "MAHESH      1\n",
              "YASH        1\n",
              "RASIKA      1\n",
              "SHIVAM      1\n",
              "GAURAV      1\n",
              "SIMRAN      1\n",
              "VIVEK       1\n",
              "ANJU        1\n",
              "LOHIT       1\n",
              "VIJAY       1\n",
              "PRAVEEN     1\n",
              "ARJUN       1\n",
              "PRIYA       1\n",
              "RAVI        1\n",
              "DEEPAK      1\n",
              "NANDINI     1\n",
              "NISHA       1\n",
              "SUNIL       1\n",
              "RAHUL       1\n",
              "ANJALI      1\n",
              "AMAN        1\n",
              "ALOK        1\n",
              "ANIL        1\n",
              "MAYURI      1\n",
              "NAVEEN      1\n",
              "VIKAS       1\n",
              "Name: count, dtype: int64"
            ]
          },
          "metadata": {},
          "execution_count": 65
        }
      ]
    },
    {
      "cell_type": "code",
      "source": [
        "df.info()"
      ],
      "metadata": {
        "colab": {
          "base_uri": "https://localhost:8080/"
        },
        "id": "4zWPIxR544wy",
        "outputId": "aad7a09f-cc8d-48e8-ddec-482087eed55a"
      },
      "execution_count": null,
      "outputs": [
        {
          "output_type": "stream",
          "name": "stdout",
          "text": [
            "<class 'pandas.core.frame.DataFrame'>\n",
            "RangeIndex: 60 entries, 0 to 59\n",
            "Data columns (total 14 columns):\n",
            " #   Column                  Non-Null Count  Dtype  \n",
            "---  ------                  --------------  -----  \n",
            " 0   Flat no                 60 non-null     int64  \n",
            " 1   Wing                    60 non-null     object \n",
            " 2   Owner Name              60 non-null     object \n",
            " 3   No of Resident          60 non-null     int64  \n",
            " 4   Confirmed Members       60 non-null     int64  \n",
            " 5   Origin of Owner         60 non-null     object \n",
            " 6   Flat Area (sq.mt)       60 non-null     int64  \n",
            " 7   No of Room              60 non-null     int64  \n",
            " 8   Tenant or owner         60 non-null     object \n",
            " 9   Maintenance Amt         60 non-null     Int64  \n",
            " 10  Availlability of owner  60 non-null     object \n",
            " 11  Flat Vacancy            60 non-null     object \n",
            " 12  Donation                60 non-null     float64\n",
            " 13  Outsiders               60 non-null     int64  \n",
            "dtypes: Int64(1), float64(1), int64(6), object(6)\n",
            "memory usage: 6.7+ KB\n"
          ]
        }
      ]
    },
    {
      "cell_type": "markdown",
      "source": [
        "We noticed again by seeing the info of the data frame there are NAN values in No of Resident and Confirmed Members. We'll impute 0 where NAN values are noticed."
      ],
      "metadata": {
        "id": "tNZn7DC19t8n"
      }
    },
    {
      "cell_type": "code",
      "source": [
        "df['No of Resident'] = df['No of Resident'].fillna(0)\n",
        "\n",
        "# Fill missing values in the \"Confirmed Members\" column with 0\n",
        "df['Confirmed Members'] = df['Confirmed Members'].fillna(0)\n",
        "\n",
        "# Convert both columns to integer type\n",
        "df['No of Resident'] = df['No of Resident'].astype(int)\n",
        "df['Confirmed Members'] = df['Confirmed Members'].astype(int)"
      ],
      "metadata": {
        "id": "0z6x2po_9awU"
      },
      "execution_count": null,
      "outputs": []
    },
    {
      "cell_type": "code",
      "source": [
        "df[\"No of Resident\"].value_counts()"
      ],
      "metadata": {
        "colab": {
          "base_uri": "https://localhost:8080/"
        },
        "id": "FA9Y9GT98JEW",
        "outputId": "da05ae55-ef06-4479-fb37-56f4c377dde3"
      },
      "execution_count": null,
      "outputs": [
        {
          "output_type": "execute_result",
          "data": {
            "text/plain": [
              "No of Resident\n",
              "4    16\n",
              "5    13\n",
              "3    12\n",
              "2     7\n",
              "0     4\n",
              "7     3\n",
              "8     2\n",
              "6     2\n",
              "1     1\n",
              "Name: count, dtype: int64"
            ]
          },
          "metadata": {},
          "execution_count": 87
        }
      ]
    },
    {
      "cell_type": "code",
      "source": [
        "df[\"Confirmed Members\"].value_counts()"
      ],
      "metadata": {
        "colab": {
          "base_uri": "https://localhost:8080/"
        },
        "id": "7BtVOuhZ8Vln",
        "outputId": "f30340f1-80d6-44ce-eaa4-1559a7d5a5d7"
      },
      "execution_count": null,
      "outputs": [
        {
          "output_type": "execute_result",
          "data": {
            "text/plain": [
              "Confirmed Members\n",
              "2     16\n",
              "4     13\n",
              "3     11\n",
              "0      6\n",
              "1      4\n",
              "6      2\n",
              "8      2\n",
              "15     1\n",
              "20     1\n",
              "11     1\n",
              "9      1\n",
              "7      1\n",
              "5      1\n",
              "Name: count, dtype: int64"
            ]
          },
          "metadata": {},
          "execution_count": 88
        }
      ]
    },
    {
      "cell_type": "code",
      "source": [
        "df[\"No of Room\"].value_counts()"
      ],
      "metadata": {
        "colab": {
          "base_uri": "https://localhost:8080/"
        },
        "id": "DrpJ29u3B-SG",
        "outputId": "75ef0d68-136e-4eb0-f132-613d494416f0"
      },
      "execution_count": null,
      "outputs": [
        {
          "output_type": "execute_result",
          "data": {
            "text/plain": [
              "No of Room\n",
              "2    35\n",
              "3    25\n",
              "Name: count, dtype: int64"
            ]
          },
          "metadata": {},
          "execution_count": 97
        }
      ]
    },
    {
      "cell_type": "markdown",
      "source": [],
      "metadata": {
        "id": "Ct_NAceymBdu"
      }
    },
    {
      "cell_type": "markdown",
      "source": [
        "Task 4: Importing Caterer Data and Overview\n",
        "Now as we have completed the necessary exploration and cleaning of the data which contains resident information. In the pursuit of event planning we have other data which has information related to decoration, cost per plate and ratings of the decorator and caterers. Help me analyse it and finalize the best decorator and caterer. Let's begin by loading the data and have a quick overview on the content of data set\n",
        "\n",
        "\n"
      ],
      "metadata": {
        "id": "9CI4nq-Li0mP"
      }
    },
    {
      "cell_type": "markdown",
      "source": [
        "1. Read the CSV File and Display the First Few Rows:\n",
        "\n",
        "Load the data from 'Caterer_info.csv' into the DataFrame df2 and display the first few rows to understand the dataset's structure."
      ],
      "metadata": {
        "id": "r5aAqRAAjFOR"
      }
    },
    {
      "cell_type": "code",
      "source": [
        "df2 = pd.read_csv(\"/content/Copy of Caterer_info - Caterer_info.csv.csv\")"
      ],
      "metadata": {
        "id": "qGnnspcbi05z"
      },
      "execution_count": null,
      "outputs": []
    },
    {
      "cell_type": "code",
      "source": [
        "df2.head()"
      ],
      "metadata": {
        "colab": {
          "base_uri": "https://localhost:8080/",
          "height": 206
        },
        "id": "o14Yez4Bj-Rf",
        "outputId": "ef451f48-8b99-43ac-9778-b97bd9155610"
      },
      "execution_count": null,
      "outputs": [
        {
          "output_type": "execute_result",
          "data": {
            "text/plain": [
              "   Unnamed: 0  Plate Cost  Decoration Price  Rating Caterer Name\n",
              "0           0         280              5000     2.4            a\n",
              "1           1         420              4300     3.8            b\n",
              "2           2         390              5900     3.1            c\n",
              "3           3         420              6900     4.6            d\n",
              "4           4         280              6500     2.3            e"
            ],
            "text/html": [
              "\n",
              "  <div id=\"df-85645f8b-fbbf-45cf-9506-e89b214cc2fc\" class=\"colab-df-container\">\n",
              "    <div>\n",
              "<style scoped>\n",
              "    .dataframe tbody tr th:only-of-type {\n",
              "        vertical-align: middle;\n",
              "    }\n",
              "\n",
              "    .dataframe tbody tr th {\n",
              "        vertical-align: top;\n",
              "    }\n",
              "\n",
              "    .dataframe thead th {\n",
              "        text-align: right;\n",
              "    }\n",
              "</style>\n",
              "<table border=\"1\" class=\"dataframe\">\n",
              "  <thead>\n",
              "    <tr style=\"text-align: right;\">\n",
              "      <th></th>\n",
              "      <th>Unnamed: 0</th>\n",
              "      <th>Plate Cost</th>\n",
              "      <th>Decoration Price</th>\n",
              "      <th>Rating</th>\n",
              "      <th>Caterer Name</th>\n",
              "    </tr>\n",
              "  </thead>\n",
              "  <tbody>\n",
              "    <tr>\n",
              "      <th>0</th>\n",
              "      <td>0</td>\n",
              "      <td>280</td>\n",
              "      <td>5000</td>\n",
              "      <td>2.4</td>\n",
              "      <td>a</td>\n",
              "    </tr>\n",
              "    <tr>\n",
              "      <th>1</th>\n",
              "      <td>1</td>\n",
              "      <td>420</td>\n",
              "      <td>4300</td>\n",
              "      <td>3.8</td>\n",
              "      <td>b</td>\n",
              "    </tr>\n",
              "    <tr>\n",
              "      <th>2</th>\n",
              "      <td>2</td>\n",
              "      <td>390</td>\n",
              "      <td>5900</td>\n",
              "      <td>3.1</td>\n",
              "      <td>c</td>\n",
              "    </tr>\n",
              "    <tr>\n",
              "      <th>3</th>\n",
              "      <td>3</td>\n",
              "      <td>420</td>\n",
              "      <td>6900</td>\n",
              "      <td>4.6</td>\n",
              "      <td>d</td>\n",
              "    </tr>\n",
              "    <tr>\n",
              "      <th>4</th>\n",
              "      <td>4</td>\n",
              "      <td>280</td>\n",
              "      <td>6500</td>\n",
              "      <td>2.3</td>\n",
              "      <td>e</td>\n",
              "    </tr>\n",
              "  </tbody>\n",
              "</table>\n",
              "</div>\n",
              "    <div class=\"colab-df-buttons\">\n",
              "\n",
              "  <div class=\"colab-df-container\">\n",
              "    <button class=\"colab-df-convert\" onclick=\"convertToInteractive('df-85645f8b-fbbf-45cf-9506-e89b214cc2fc')\"\n",
              "            title=\"Convert this dataframe to an interactive table.\"\n",
              "            style=\"display:none;\">\n",
              "\n",
              "  <svg xmlns=\"http://www.w3.org/2000/svg\" height=\"24px\" viewBox=\"0 -960 960 960\">\n",
              "    <path d=\"M120-120v-720h720v720H120Zm60-500h600v-160H180v160Zm220 220h160v-160H400v160Zm0 220h160v-160H400v160ZM180-400h160v-160H180v160Zm440 0h160v-160H620v160ZM180-180h160v-160H180v160Zm440 0h160v-160H620v160Z\"/>\n",
              "  </svg>\n",
              "    </button>\n",
              "\n",
              "  <style>\n",
              "    .colab-df-container {\n",
              "      display:flex;\n",
              "      gap: 12px;\n",
              "    }\n",
              "\n",
              "    .colab-df-convert {\n",
              "      background-color: #E8F0FE;\n",
              "      border: none;\n",
              "      border-radius: 50%;\n",
              "      cursor: pointer;\n",
              "      display: none;\n",
              "      fill: #1967D2;\n",
              "      height: 32px;\n",
              "      padding: 0 0 0 0;\n",
              "      width: 32px;\n",
              "    }\n",
              "\n",
              "    .colab-df-convert:hover {\n",
              "      background-color: #E2EBFA;\n",
              "      box-shadow: 0px 1px 2px rgba(60, 64, 67, 0.3), 0px 1px 3px 1px rgba(60, 64, 67, 0.15);\n",
              "      fill: #174EA6;\n",
              "    }\n",
              "\n",
              "    .colab-df-buttons div {\n",
              "      margin-bottom: 4px;\n",
              "    }\n",
              "\n",
              "    [theme=dark] .colab-df-convert {\n",
              "      background-color: #3B4455;\n",
              "      fill: #D2E3FC;\n",
              "    }\n",
              "\n",
              "    [theme=dark] .colab-df-convert:hover {\n",
              "      background-color: #434B5C;\n",
              "      box-shadow: 0px 1px 3px 1px rgba(0, 0, 0, 0.15);\n",
              "      filter: drop-shadow(0px 1px 2px rgba(0, 0, 0, 0.3));\n",
              "      fill: #FFFFFF;\n",
              "    }\n",
              "  </style>\n",
              "\n",
              "    <script>\n",
              "      const buttonEl =\n",
              "        document.querySelector('#df-85645f8b-fbbf-45cf-9506-e89b214cc2fc button.colab-df-convert');\n",
              "      buttonEl.style.display =\n",
              "        google.colab.kernel.accessAllowed ? 'block' : 'none';\n",
              "\n",
              "      async function convertToInteractive(key) {\n",
              "        const element = document.querySelector('#df-85645f8b-fbbf-45cf-9506-e89b214cc2fc');\n",
              "        const dataTable =\n",
              "          await google.colab.kernel.invokeFunction('convertToInteractive',\n",
              "                                                    [key], {});\n",
              "        if (!dataTable) return;\n",
              "\n",
              "        const docLinkHtml = 'Like what you see? Visit the ' +\n",
              "          '<a target=\"_blank\" href=https://colab.research.google.com/notebooks/data_table.ipynb>data table notebook</a>'\n",
              "          + ' to learn more about interactive tables.';\n",
              "        element.innerHTML = '';\n",
              "        dataTable['output_type'] = 'display_data';\n",
              "        await google.colab.output.renderOutput(dataTable, element);\n",
              "        const docLink = document.createElement('div');\n",
              "        docLink.innerHTML = docLinkHtml;\n",
              "        element.appendChild(docLink);\n",
              "      }\n",
              "    </script>\n",
              "  </div>\n",
              "\n",
              "\n",
              "<div id=\"df-b6333a14-17a4-48e2-84bb-d23efa78e425\">\n",
              "  <button class=\"colab-df-quickchart\" onclick=\"quickchart('df-b6333a14-17a4-48e2-84bb-d23efa78e425')\"\n",
              "            title=\"Suggest charts\"\n",
              "            style=\"display:none;\">\n",
              "\n",
              "<svg xmlns=\"http://www.w3.org/2000/svg\" height=\"24px\"viewBox=\"0 0 24 24\"\n",
              "     width=\"24px\">\n",
              "    <g>\n",
              "        <path d=\"M19 3H5c-1.1 0-2 .9-2 2v14c0 1.1.9 2 2 2h14c1.1 0 2-.9 2-2V5c0-1.1-.9-2-2-2zM9 17H7v-7h2v7zm4 0h-2V7h2v10zm4 0h-2v-4h2v4z\"/>\n",
              "    </g>\n",
              "</svg>\n",
              "  </button>\n",
              "\n",
              "<style>\n",
              "  .colab-df-quickchart {\n",
              "      --bg-color: #E8F0FE;\n",
              "      --fill-color: #1967D2;\n",
              "      --hover-bg-color: #E2EBFA;\n",
              "      --hover-fill-color: #174EA6;\n",
              "      --disabled-fill-color: #AAA;\n",
              "      --disabled-bg-color: #DDD;\n",
              "  }\n",
              "\n",
              "  [theme=dark] .colab-df-quickchart {\n",
              "      --bg-color: #3B4455;\n",
              "      --fill-color: #D2E3FC;\n",
              "      --hover-bg-color: #434B5C;\n",
              "      --hover-fill-color: #FFFFFF;\n",
              "      --disabled-bg-color: #3B4455;\n",
              "      --disabled-fill-color: #666;\n",
              "  }\n",
              "\n",
              "  .colab-df-quickchart {\n",
              "    background-color: var(--bg-color);\n",
              "    border: none;\n",
              "    border-radius: 50%;\n",
              "    cursor: pointer;\n",
              "    display: none;\n",
              "    fill: var(--fill-color);\n",
              "    height: 32px;\n",
              "    padding: 0;\n",
              "    width: 32px;\n",
              "  }\n",
              "\n",
              "  .colab-df-quickchart:hover {\n",
              "    background-color: var(--hover-bg-color);\n",
              "    box-shadow: 0 1px 2px rgba(60, 64, 67, 0.3), 0 1px 3px 1px rgba(60, 64, 67, 0.15);\n",
              "    fill: var(--button-hover-fill-color);\n",
              "  }\n",
              "\n",
              "  .colab-df-quickchart-complete:disabled,\n",
              "  .colab-df-quickchart-complete:disabled:hover {\n",
              "    background-color: var(--disabled-bg-color);\n",
              "    fill: var(--disabled-fill-color);\n",
              "    box-shadow: none;\n",
              "  }\n",
              "\n",
              "  .colab-df-spinner {\n",
              "    border: 2px solid var(--fill-color);\n",
              "    border-color: transparent;\n",
              "    border-bottom-color: var(--fill-color);\n",
              "    animation:\n",
              "      spin 1s steps(1) infinite;\n",
              "  }\n",
              "\n",
              "  @keyframes spin {\n",
              "    0% {\n",
              "      border-color: transparent;\n",
              "      border-bottom-color: var(--fill-color);\n",
              "      border-left-color: var(--fill-color);\n",
              "    }\n",
              "    20% {\n",
              "      border-color: transparent;\n",
              "      border-left-color: var(--fill-color);\n",
              "      border-top-color: var(--fill-color);\n",
              "    }\n",
              "    30% {\n",
              "      border-color: transparent;\n",
              "      border-left-color: var(--fill-color);\n",
              "      border-top-color: var(--fill-color);\n",
              "      border-right-color: var(--fill-color);\n",
              "    }\n",
              "    40% {\n",
              "      border-color: transparent;\n",
              "      border-right-color: var(--fill-color);\n",
              "      border-top-color: var(--fill-color);\n",
              "    }\n",
              "    60% {\n",
              "      border-color: transparent;\n",
              "      border-right-color: var(--fill-color);\n",
              "    }\n",
              "    80% {\n",
              "      border-color: transparent;\n",
              "      border-right-color: var(--fill-color);\n",
              "      border-bottom-color: var(--fill-color);\n",
              "    }\n",
              "    90% {\n",
              "      border-color: transparent;\n",
              "      border-bottom-color: var(--fill-color);\n",
              "    }\n",
              "  }\n",
              "</style>\n",
              "\n",
              "  <script>\n",
              "    async function quickchart(key) {\n",
              "      const quickchartButtonEl =\n",
              "        document.querySelector('#' + key + ' button');\n",
              "      quickchartButtonEl.disabled = true;  // To prevent multiple clicks.\n",
              "      quickchartButtonEl.classList.add('colab-df-spinner');\n",
              "      try {\n",
              "        const charts = await google.colab.kernel.invokeFunction(\n",
              "            'suggestCharts', [key], {});\n",
              "      } catch (error) {\n",
              "        console.error('Error during call to suggestCharts:', error);\n",
              "      }\n",
              "      quickchartButtonEl.classList.remove('colab-df-spinner');\n",
              "      quickchartButtonEl.classList.add('colab-df-quickchart-complete');\n",
              "    }\n",
              "    (() => {\n",
              "      let quickchartButtonEl =\n",
              "        document.querySelector('#df-b6333a14-17a4-48e2-84bb-d23efa78e425 button');\n",
              "      quickchartButtonEl.style.display =\n",
              "        google.colab.kernel.accessAllowed ? 'block' : 'none';\n",
              "    })();\n",
              "  </script>\n",
              "</div>\n",
              "\n",
              "    </div>\n",
              "  </div>\n"
            ],
            "application/vnd.google.colaboratory.intrinsic+json": {
              "type": "dataframe",
              "variable_name": "df2",
              "summary": "{\n  \"name\": \"df2\",\n  \"rows\": 20,\n  \"fields\": [\n    {\n      \"column\": \"Unnamed: 0\",\n      \"properties\": {\n        \"dtype\": \"number\",\n        \"std\": 5,\n        \"min\": 0,\n        \"max\": 19,\n        \"num_unique_values\": 20,\n        \"samples\": [\n          0,\n          17,\n          15\n        ],\n        \"semantic_type\": \"\",\n        \"description\": \"\"\n      }\n    },\n    {\n      \"column\": \"Plate Cost\",\n      \"properties\": {\n        \"dtype\": \"number\",\n        \"std\": 74,\n        \"min\": 250,\n        \"max\": 500,\n        \"num_unique_values\": 14,\n        \"samples\": [\n          490,\n          480,\n          280\n        ],\n        \"semantic_type\": \"\",\n        \"description\": \"\"\n      }\n    },\n    {\n      \"column\": \"Decoration Price\",\n      \"properties\": {\n        \"dtype\": \"number\",\n        \"std\": 918,\n        \"min\": 4200,\n        \"max\": 7000,\n        \"num_unique_values\": 13,\n        \"samples\": [\n          4900,\n          5600,\n          5000\n        ],\n        \"semantic_type\": \"\",\n        \"description\": \"\"\n      }\n    },\n    {\n      \"column\": \"Rating\",\n      \"properties\": {\n        \"dtype\": \"number\",\n        \"std\": 0.7411761634477716,\n        \"min\": 2.3,\n        \"max\": 4.8,\n        \"num_unique_values\": 12,\n        \"samples\": [\n          4.8,\n          3.2,\n          2.4\n        ],\n        \"semantic_type\": \"\",\n        \"description\": \"\"\n      }\n    },\n    {\n      \"column\": \"Caterer Name\",\n      \"properties\": {\n        \"dtype\": \"string\",\n        \"num_unique_values\": 20,\n        \"samples\": [\n          \"a\",\n          \"r\",\n          \"p\"\n        ],\n        \"semantic_type\": \"\",\n        \"description\": \"\"\n      }\n    }\n  ]\n}"
            }
          },
          "metadata": {},
          "execution_count": 124
        }
      ]
    },
    {
      "cell_type": "code",
      "source": [
        "df2.shape"
      ],
      "metadata": {
        "colab": {
          "base_uri": "https://localhost:8080/"
        },
        "id": "MoHF4GaTkBls",
        "outputId": "15caa1d3-94c6-4fd0-8c90-e772e4312d5a"
      },
      "execution_count": null,
      "outputs": [
        {
          "output_type": "execute_result",
          "data": {
            "text/plain": [
              "(20, 5)"
            ]
          },
          "metadata": {},
          "execution_count": 68
        }
      ]
    },
    {
      "cell_type": "code",
      "source": [
        "df2.isna().sum()"
      ],
      "metadata": {
        "colab": {
          "base_uri": "https://localhost:8080/"
        },
        "id": "e7oCZR-RkQHO",
        "outputId": "0385decc-a3ac-45da-95a6-3ab2d7a169a6"
      },
      "execution_count": null,
      "outputs": [
        {
          "output_type": "execute_result",
          "data": {
            "text/plain": [
              "Unnamed: 0          0\n",
              "Plate Cost          0\n",
              "Decoration Price    0\n",
              "Rating              0\n",
              "Caterer Name        0\n",
              "dtype: int64"
            ]
          },
          "metadata": {},
          "execution_count": 71
        }
      ]
    },
    {
      "cell_type": "markdown",
      "source": [
        "2. Check Data Types and Missing Values:\n",
        "\n",
        "Identify the data types of each column and check for any missing values in the dataset.\n",
        "\n"
      ],
      "metadata": {
        "id": "nu1xiZuZjHtT"
      }
    },
    {
      "cell_type": "code",
      "source": [
        "df2.info()"
      ],
      "metadata": {
        "colab": {
          "base_uri": "https://localhost:8080/"
        },
        "id": "Yyg-5xwhkcUZ",
        "outputId": "74baab8c-fa54-4a64-cb08-4e2ef6df5e27"
      },
      "execution_count": null,
      "outputs": [
        {
          "output_type": "stream",
          "name": "stdout",
          "text": [
            "<class 'pandas.core.frame.DataFrame'>\n",
            "RangeIndex: 20 entries, 0 to 19\n",
            "Data columns (total 5 columns):\n",
            " #   Column            Non-Null Count  Dtype  \n",
            "---  ------            --------------  -----  \n",
            " 0   Unnamed: 0        20 non-null     int64  \n",
            " 1   Plate Cost        20 non-null     int64  \n",
            " 2   Decoration Price  20 non-null     int64  \n",
            " 3   Rating            20 non-null     float64\n",
            " 4   Caterer Name      20 non-null     object \n",
            "dtypes: float64(1), int64(3), object(1)\n",
            "memory usage: 928.0+ bytes\n"
          ]
        }
      ]
    },
    {
      "cell_type": "code",
      "source": [
        "numerical_columns = df2.select_dtypes(include=[np.number])\n"
      ],
      "metadata": {
        "id": "uJ-UUk7ijGNW"
      },
      "execution_count": null,
      "outputs": []
    },
    {
      "cell_type": "markdown",
      "source": [
        "3. Get Summary Statistics for Numeric Columns:\n",
        "\n",
        "Compute and Display summary statistics (mean, standard deviation, minimum, maximum, etc.) for the numeric columns in the DataFrame.\n",
        "\n"
      ],
      "metadata": {
        "id": "YjVufaVKjJF8"
      }
    },
    {
      "cell_type": "code",
      "source": [
        "numerical_columns.corr()"
      ],
      "metadata": {
        "colab": {
          "base_uri": "https://localhost:8080/",
          "height": 175
        },
        "id": "lAU5ZvcKi_kS",
        "outputId": "07dbad1e-7942-4b4d-b2bd-4ee3e96c295e"
      },
      "execution_count": null,
      "outputs": [
        {
          "output_type": "execute_result",
          "data": {
            "text/plain": [
              "                  Unnamed: 0  Plate Cost  Decoration Price    Rating\n",
              "Unnamed: 0          1.000000    0.306602         -0.180083  0.160240\n",
              "Plate Cost          0.306602    1.000000          0.177970  0.076834\n",
              "Decoration Price   -0.180083    0.177970          1.000000 -0.192816\n",
              "Rating              0.160240    0.076834         -0.192816  1.000000"
            ],
            "text/html": [
              "\n",
              "  <div id=\"df-be26846e-3f98-4c90-8318-766970ca318e\" class=\"colab-df-container\">\n",
              "    <div>\n",
              "<style scoped>\n",
              "    .dataframe tbody tr th:only-of-type {\n",
              "        vertical-align: middle;\n",
              "    }\n",
              "\n",
              "    .dataframe tbody tr th {\n",
              "        vertical-align: top;\n",
              "    }\n",
              "\n",
              "    .dataframe thead th {\n",
              "        text-align: right;\n",
              "    }\n",
              "</style>\n",
              "<table border=\"1\" class=\"dataframe\">\n",
              "  <thead>\n",
              "    <tr style=\"text-align: right;\">\n",
              "      <th></th>\n",
              "      <th>Unnamed: 0</th>\n",
              "      <th>Plate Cost</th>\n",
              "      <th>Decoration Price</th>\n",
              "      <th>Rating</th>\n",
              "    </tr>\n",
              "  </thead>\n",
              "  <tbody>\n",
              "    <tr>\n",
              "      <th>Unnamed: 0</th>\n",
              "      <td>1.000000</td>\n",
              "      <td>0.306602</td>\n",
              "      <td>-0.180083</td>\n",
              "      <td>0.160240</td>\n",
              "    </tr>\n",
              "    <tr>\n",
              "      <th>Plate Cost</th>\n",
              "      <td>0.306602</td>\n",
              "      <td>1.000000</td>\n",
              "      <td>0.177970</td>\n",
              "      <td>0.076834</td>\n",
              "    </tr>\n",
              "    <tr>\n",
              "      <th>Decoration Price</th>\n",
              "      <td>-0.180083</td>\n",
              "      <td>0.177970</td>\n",
              "      <td>1.000000</td>\n",
              "      <td>-0.192816</td>\n",
              "    </tr>\n",
              "    <tr>\n",
              "      <th>Rating</th>\n",
              "      <td>0.160240</td>\n",
              "      <td>0.076834</td>\n",
              "      <td>-0.192816</td>\n",
              "      <td>1.000000</td>\n",
              "    </tr>\n",
              "  </tbody>\n",
              "</table>\n",
              "</div>\n",
              "    <div class=\"colab-df-buttons\">\n",
              "\n",
              "  <div class=\"colab-df-container\">\n",
              "    <button class=\"colab-df-convert\" onclick=\"convertToInteractive('df-be26846e-3f98-4c90-8318-766970ca318e')\"\n",
              "            title=\"Convert this dataframe to an interactive table.\"\n",
              "            style=\"display:none;\">\n",
              "\n",
              "  <svg xmlns=\"http://www.w3.org/2000/svg\" height=\"24px\" viewBox=\"0 -960 960 960\">\n",
              "    <path d=\"M120-120v-720h720v720H120Zm60-500h600v-160H180v160Zm220 220h160v-160H400v160Zm0 220h160v-160H400v160ZM180-400h160v-160H180v160Zm440 0h160v-160H620v160ZM180-180h160v-160H180v160Zm440 0h160v-160H620v160Z\"/>\n",
              "  </svg>\n",
              "    </button>\n",
              "\n",
              "  <style>\n",
              "    .colab-df-container {\n",
              "      display:flex;\n",
              "      gap: 12px;\n",
              "    }\n",
              "\n",
              "    .colab-df-convert {\n",
              "      background-color: #E8F0FE;\n",
              "      border: none;\n",
              "      border-radius: 50%;\n",
              "      cursor: pointer;\n",
              "      display: none;\n",
              "      fill: #1967D2;\n",
              "      height: 32px;\n",
              "      padding: 0 0 0 0;\n",
              "      width: 32px;\n",
              "    }\n",
              "\n",
              "    .colab-df-convert:hover {\n",
              "      background-color: #E2EBFA;\n",
              "      box-shadow: 0px 1px 2px rgba(60, 64, 67, 0.3), 0px 1px 3px 1px rgba(60, 64, 67, 0.15);\n",
              "      fill: #174EA6;\n",
              "    }\n",
              "\n",
              "    .colab-df-buttons div {\n",
              "      margin-bottom: 4px;\n",
              "    }\n",
              "\n",
              "    [theme=dark] .colab-df-convert {\n",
              "      background-color: #3B4455;\n",
              "      fill: #D2E3FC;\n",
              "    }\n",
              "\n",
              "    [theme=dark] .colab-df-convert:hover {\n",
              "      background-color: #434B5C;\n",
              "      box-shadow: 0px 1px 3px 1px rgba(0, 0, 0, 0.15);\n",
              "      filter: drop-shadow(0px 1px 2px rgba(0, 0, 0, 0.3));\n",
              "      fill: #FFFFFF;\n",
              "    }\n",
              "  </style>\n",
              "\n",
              "    <script>\n",
              "      const buttonEl =\n",
              "        document.querySelector('#df-be26846e-3f98-4c90-8318-766970ca318e button.colab-df-convert');\n",
              "      buttonEl.style.display =\n",
              "        google.colab.kernel.accessAllowed ? 'block' : 'none';\n",
              "\n",
              "      async function convertToInteractive(key) {\n",
              "        const element = document.querySelector('#df-be26846e-3f98-4c90-8318-766970ca318e');\n",
              "        const dataTable =\n",
              "          await google.colab.kernel.invokeFunction('convertToInteractive',\n",
              "                                                    [key], {});\n",
              "        if (!dataTable) return;\n",
              "\n",
              "        const docLinkHtml = 'Like what you see? Visit the ' +\n",
              "          '<a target=\"_blank\" href=https://colab.research.google.com/notebooks/data_table.ipynb>data table notebook</a>'\n",
              "          + ' to learn more about interactive tables.';\n",
              "        element.innerHTML = '';\n",
              "        dataTable['output_type'] = 'display_data';\n",
              "        await google.colab.output.renderOutput(dataTable, element);\n",
              "        const docLink = document.createElement('div');\n",
              "        docLink.innerHTML = docLinkHtml;\n",
              "        element.appendChild(docLink);\n",
              "      }\n",
              "    </script>\n",
              "  </div>\n",
              "\n",
              "\n",
              "<div id=\"df-658caf59-2312-4425-8c68-121a3ea1357f\">\n",
              "  <button class=\"colab-df-quickchart\" onclick=\"quickchart('df-658caf59-2312-4425-8c68-121a3ea1357f')\"\n",
              "            title=\"Suggest charts\"\n",
              "            style=\"display:none;\">\n",
              "\n",
              "<svg xmlns=\"http://www.w3.org/2000/svg\" height=\"24px\"viewBox=\"0 0 24 24\"\n",
              "     width=\"24px\">\n",
              "    <g>\n",
              "        <path d=\"M19 3H5c-1.1 0-2 .9-2 2v14c0 1.1.9 2 2 2h14c1.1 0 2-.9 2-2V5c0-1.1-.9-2-2-2zM9 17H7v-7h2v7zm4 0h-2V7h2v10zm4 0h-2v-4h2v4z\"/>\n",
              "    </g>\n",
              "</svg>\n",
              "  </button>\n",
              "\n",
              "<style>\n",
              "  .colab-df-quickchart {\n",
              "      --bg-color: #E8F0FE;\n",
              "      --fill-color: #1967D2;\n",
              "      --hover-bg-color: #E2EBFA;\n",
              "      --hover-fill-color: #174EA6;\n",
              "      --disabled-fill-color: #AAA;\n",
              "      --disabled-bg-color: #DDD;\n",
              "  }\n",
              "\n",
              "  [theme=dark] .colab-df-quickchart {\n",
              "      --bg-color: #3B4455;\n",
              "      --fill-color: #D2E3FC;\n",
              "      --hover-bg-color: #434B5C;\n",
              "      --hover-fill-color: #FFFFFF;\n",
              "      --disabled-bg-color: #3B4455;\n",
              "      --disabled-fill-color: #666;\n",
              "  }\n",
              "\n",
              "  .colab-df-quickchart {\n",
              "    background-color: var(--bg-color);\n",
              "    border: none;\n",
              "    border-radius: 50%;\n",
              "    cursor: pointer;\n",
              "    display: none;\n",
              "    fill: var(--fill-color);\n",
              "    height: 32px;\n",
              "    padding: 0;\n",
              "    width: 32px;\n",
              "  }\n",
              "\n",
              "  .colab-df-quickchart:hover {\n",
              "    background-color: var(--hover-bg-color);\n",
              "    box-shadow: 0 1px 2px rgba(60, 64, 67, 0.3), 0 1px 3px 1px rgba(60, 64, 67, 0.15);\n",
              "    fill: var(--button-hover-fill-color);\n",
              "  }\n",
              "\n",
              "  .colab-df-quickchart-complete:disabled,\n",
              "  .colab-df-quickchart-complete:disabled:hover {\n",
              "    background-color: var(--disabled-bg-color);\n",
              "    fill: var(--disabled-fill-color);\n",
              "    box-shadow: none;\n",
              "  }\n",
              "\n",
              "  .colab-df-spinner {\n",
              "    border: 2px solid var(--fill-color);\n",
              "    border-color: transparent;\n",
              "    border-bottom-color: var(--fill-color);\n",
              "    animation:\n",
              "      spin 1s steps(1) infinite;\n",
              "  }\n",
              "\n",
              "  @keyframes spin {\n",
              "    0% {\n",
              "      border-color: transparent;\n",
              "      border-bottom-color: var(--fill-color);\n",
              "      border-left-color: var(--fill-color);\n",
              "    }\n",
              "    20% {\n",
              "      border-color: transparent;\n",
              "      border-left-color: var(--fill-color);\n",
              "      border-top-color: var(--fill-color);\n",
              "    }\n",
              "    30% {\n",
              "      border-color: transparent;\n",
              "      border-left-color: var(--fill-color);\n",
              "      border-top-color: var(--fill-color);\n",
              "      border-right-color: var(--fill-color);\n",
              "    }\n",
              "    40% {\n",
              "      border-color: transparent;\n",
              "      border-right-color: var(--fill-color);\n",
              "      border-top-color: var(--fill-color);\n",
              "    }\n",
              "    60% {\n",
              "      border-color: transparent;\n",
              "      border-right-color: var(--fill-color);\n",
              "    }\n",
              "    80% {\n",
              "      border-color: transparent;\n",
              "      border-right-color: var(--fill-color);\n",
              "      border-bottom-color: var(--fill-color);\n",
              "    }\n",
              "    90% {\n",
              "      border-color: transparent;\n",
              "      border-bottom-color: var(--fill-color);\n",
              "    }\n",
              "  }\n",
              "</style>\n",
              "\n",
              "  <script>\n",
              "    async function quickchart(key) {\n",
              "      const quickchartButtonEl =\n",
              "        document.querySelector('#' + key + ' button');\n",
              "      quickchartButtonEl.disabled = true;  // To prevent multiple clicks.\n",
              "      quickchartButtonEl.classList.add('colab-df-spinner');\n",
              "      try {\n",
              "        const charts = await google.colab.kernel.invokeFunction(\n",
              "            'suggestCharts', [key], {});\n",
              "      } catch (error) {\n",
              "        console.error('Error during call to suggestCharts:', error);\n",
              "      }\n",
              "      quickchartButtonEl.classList.remove('colab-df-spinner');\n",
              "      quickchartButtonEl.classList.add('colab-df-quickchart-complete');\n",
              "    }\n",
              "    (() => {\n",
              "      let quickchartButtonEl =\n",
              "        document.querySelector('#df-658caf59-2312-4425-8c68-121a3ea1357f button');\n",
              "      quickchartButtonEl.style.display =\n",
              "        google.colab.kernel.accessAllowed ? 'block' : 'none';\n",
              "    })();\n",
              "  </script>\n",
              "</div>\n",
              "\n",
              "    </div>\n",
              "  </div>\n"
            ],
            "application/vnd.google.colaboratory.intrinsic+json": {
              "type": "dataframe",
              "summary": "{\n  \"name\": \"numerical_columns\",\n  \"rows\": 4,\n  \"fields\": [\n    {\n      \"column\": \"Unnamed: 0\",\n      \"properties\": {\n        \"dtype\": \"number\",\n        \"std\": 0.4960424255655738,\n        \"min\": -0.1800830616205844,\n        \"max\": 1.0,\n        \"num_unique_values\": 4,\n        \"samples\": [\n          0.3066019142930196,\n          0.1602404658270773,\n          1.0\n        ],\n        \"semantic_type\": \"\",\n        \"description\": \"\"\n      }\n    },\n    {\n      \"column\": \"Plate Cost\",\n      \"properties\": {\n        \"dtype\": \"number\",\n        \"std\": 0.4171668536957613,\n        \"min\": 0.07683387795013731,\n        \"max\": 1.0,\n        \"num_unique_values\": 4,\n        \"samples\": [\n          1.0,\n          0.07683387795013731,\n          0.3066019142930196\n        ],\n        \"semantic_type\": \"\",\n        \"description\": \"\"\n      }\n    },\n    {\n      \"column\": \"Decoration Price\",\n      \"properties\": {\n        \"dtype\": \"number\",\n        \"std\": 0.5595374387559977,\n        \"min\": -0.19281599138878547,\n        \"max\": 1.0,\n        \"num_unique_values\": 4,\n        \"samples\": [\n          0.17796984949046846,\n          -0.19281599138878547,\n          -0.1800830616205844\n        ],\n        \"semantic_type\": \"\",\n        \"description\": \"\"\n      }\n    },\n    {\n      \"column\": \"Rating\",\n      \"properties\": {\n        \"dtype\": \"number\",\n        \"std\": 0.5151503280892308,\n        \"min\": -0.19281599138878547,\n        \"max\": 1.0,\n        \"num_unique_values\": 4,\n        \"samples\": [\n          0.07683387795013731,\n          1.0,\n          0.1602404658270773\n        ],\n        \"semantic_type\": \"\",\n        \"description\": \"\"\n      }\n    }\n  ]\n}"
            }
          },
          "metadata": {},
          "execution_count": 78
        }
      ]
    },
    {
      "cell_type": "markdown",
      "source": [
        "4. Count Unique Values in Each Column:\n",
        "\n",
        "Understand the cardinality of unique values in each column.\n",
        "\n"
      ],
      "metadata": {
        "id": "kl0ku21_jMyA"
      }
    },
    {
      "cell_type": "code",
      "source": [
        "df2.nunique()"
      ],
      "metadata": {
        "colab": {
          "base_uri": "https://localhost:8080/"
        },
        "id": "72v6wDQhkDwU",
        "outputId": "078256da-5be4-44dc-ccca-ecfea50137c2"
      },
      "execution_count": null,
      "outputs": [
        {
          "output_type": "execute_result",
          "data": {
            "text/plain": [
              "Unnamed: 0          20\n",
              "Plate Cost          14\n",
              "Decoration Price    13\n",
              "Rating              12\n",
              "Caterer Name        20\n",
              "dtype: int64"
            ]
          },
          "metadata": {},
          "execution_count": 69
        }
      ]
    },
    {
      "cell_type": "markdown",
      "source": [
        "5. Check Unique Values in Each Column:\n",
        "\n",
        "Check for missing values in each column of the DataFrame and display the count of missing values.\n",
        "\n"
      ],
      "metadata": {
        "id": "HZXVjsVajPsv"
      }
    },
    {
      "cell_type": "code",
      "source": [
        "df2.isnull().sum()"
      ],
      "metadata": {
        "colab": {
          "base_uri": "https://localhost:8080/"
        },
        "id": "D3xkEr2GkXJV",
        "outputId": "56d7ad06-5efc-46ff-c2b2-a1d1c5869348"
      },
      "execution_count": null,
      "outputs": [
        {
          "output_type": "execute_result",
          "data": {
            "text/plain": [
              "Unnamed: 0          0\n",
              "Plate Cost          0\n",
              "Decoration Price    0\n",
              "Rating              0\n",
              "Caterer Name        0\n",
              "dtype: int64"
            ]
          },
          "metadata": {},
          "execution_count": 72
        }
      ]
    },
    {
      "cell_type": "markdown",
      "source": [
        "6. Check for Missing Values:\n",
        "\n",
        "Check for duplicate rows in the DataFrame and display the count of duplicated values.\n",
        "\n"
      ],
      "metadata": {
        "id": "M1Wv7FfgjUsd"
      }
    },
    {
      "cell_type": "code",
      "source": [
        "df2.duplicated().sum()"
      ],
      "metadata": {
        "colab": {
          "base_uri": "https://localhost:8080/"
        },
        "id": "bf_wSXZakLO0",
        "outputId": "bee80504-5514-4993-b3d7-a3f57c38371b"
      },
      "execution_count": null,
      "outputs": [
        {
          "output_type": "execute_result",
          "data": {
            "text/plain": [
              "0"
            ]
          },
          "metadata": {},
          "execution_count": 70
        }
      ]
    },
    {
      "cell_type": "markdown",
      "source": [
        "Task  5 : In this section of the capstone project, we will conduct a demographic analysis of the housing society dataset. This analysis aims to provide an overview of the residents' characteristics, flat information, and ownership structure. By gaining insights into these demographic factors, we can make informed decisions for event planning, resource allocation, and enhancing resident satisfaction.\n"
      ],
      "metadata": {
        "id": "4XHY9iu_jfdn"
      }
    },
    {
      "cell_type": "markdown",
      "source": [
        "Demographic Overview: Start by providing an overview of the demographic characteristics of the residents. Calculate statistics like the average number of residents per flat, the distribution of residents by origin, and any other relevant demographic information.\n",
        "\n",
        "\n",
        "1. Demographic Overview:\n",
        "\n",
        "Calculate the average number of residents per flat.\n",
        "Determine the distribution of residents by their place of origin.\n",
        "Visualize the distribution of residents by origin using a bar plot."
      ],
      "metadata": {
        "id": "RPzWWMFG1m16"
      }
    },
    {
      "cell_type": "code",
      "source": [
        "import matplotlib.pyplot as plt"
      ],
      "metadata": {
        "id": "rvxBcAa_1bdO"
      },
      "execution_count": null,
      "outputs": []
    },
    {
      "cell_type": "code",
      "source": [
        "# 1. Calculate the average number of residents per flat\n",
        "average_residents_per_flat = df['No of Resident'].mean()\n",
        "print(\"Average number of residents per flat:\", average_residents_per_flat)"
      ],
      "metadata": {
        "colab": {
          "base_uri": "https://localhost:8080/"
        },
        "id": "aOW-x1RR_DRi",
        "outputId": "7867c7ee-4d95-4343-94a6-d25381825879"
      },
      "execution_count": null,
      "outputs": [
        {
          "output_type": "stream",
          "name": "stdout",
          "text": [
            "Average number of residents per flat: 3.816666666666667\n"
          ]
        }
      ]
    },
    {
      "cell_type": "code",
      "source": [
        "# 2. Calculate the distribution of residents by origin\n",
        "residents_by_origin = df['Origin of Owner'].value_counts()"
      ],
      "metadata": {
        "id": "gnLeQTJP1pwH"
      },
      "execution_count": null,
      "outputs": []
    },
    {
      "cell_type": "code",
      "source": [
        "# 3. Visualize the distribution of residents by origin using a bar plot\n",
        "plt.figure(figsize=(10, 6))\n",
        "residents_by_origin.plot(kind='bar', color='skyblue')\n",
        "plt.title('Distribution of Residents by Origin')\n",
        "plt.xlabel('Origin of Owner')\n",
        "plt.ylabel('Number of Residents')\n",
        "plt.xticks(rotation=45)\n",
        "plt.grid(axis='y', linestyle='--', alpha=0.7)\n",
        "plt.tight_layout()\n",
        "plt.show()"
      ],
      "metadata": {
        "colab": {
          "base_uri": "https://localhost:8080/",
          "height": 607
        },
        "id": "tRZ96nFD_oWT",
        "outputId": "9d2425dd-d69b-4c7c-a31c-56eb1ccca4ea"
      },
      "execution_count": null,
      "outputs": [
        {
          "output_type": "display_data",
          "data": {
            "text/plain": [
              "<Figure size 1000x600 with 1 Axes>"
            ],
            "image/png": "[encoded data removed]"
          },
          "metadata": {}
        }
      ]
    },
    {
      "cell_type": "markdown",
      "source": [
        "Flat Information: Analyze the flat information, such as flat area and number of rooms. Calculate statistics like the average flat area and the most common number of rooms in the flats.\n",
        "\n",
        "2. Flat Information:\n",
        "\n",
        "Calculate the average flat area (in square meters).\n",
        "Find the most common number of rooms in flats.\n",
        "Visualize the distribution of flat areas using a histogram.\n"
      ],
      "metadata": {
        "id": "2RFJHseB1pIR"
      }
    },
    {
      "cell_type": "code",
      "source": [
        "# 1. Calculate the average flat area (in square meters)\n",
        "average_flat_area = df['Flat Area (sq.mt)'].mean()\n",
        "print(\"Average flat area:\", average_flat_area, \"sq.mt\")"
      ],
      "metadata": {
        "colab": {
          "base_uri": "https://localhost:8080/"
        },
        "id": "7VlSnQ4F_VQY",
        "outputId": "c98d9b44-6184-4e90-9b77-8f04123ab7ef"
      },
      "execution_count": null,
      "outputs": [
        {
          "output_type": "stream",
          "name": "stdout",
          "text": [
            "Average flat area: 554.1666666666666 sq.mt\n"
          ]
        }
      ]
    },
    {
      "cell_type": "code",
      "source": [
        "# 2. Find the most common number of rooms in flats\n",
        "most_common_rooms = df['No of Room'].mode()[0]\n",
        "print(\"Most common number of rooms in flats:\", most_common_rooms)"
      ],
      "metadata": {
        "colab": {
          "base_uri": "https://localhost:8080/"
        },
        "id": "xscORsofAc4P",
        "outputId": "95d9b2dc-bca7-4ad3-b29d-b41264ee6702"
      },
      "execution_count": null,
      "outputs": [
        {
          "output_type": "stream",
          "name": "stdout",
          "text": [
            "Most common number of rooms in flats: 2\n"
          ]
        }
      ]
    },
    {
      "cell_type": "code",
      "source": [
        "# 3. Visualize the distribution of flat areas using a histogram\n",
        "plt.figure(figsize=(10, 6))\n",
        "plt.hist(df['Flat Area (sq.mt)'], bins=20, color='skyblue', edgecolor='black', alpha=0.7)\n",
        "plt.title('Distribution of Flat Areas')\n",
        "plt.xlabel('Flat Area (sq.mt)')\n",
        "plt.ylabel('Frequency')\n",
        "plt.grid(axis='y', linestyle='--', alpha=0.7)\n",
        "plt.tight_layout()\n",
        "plt.show()"
      ],
      "metadata": {
        "colab": {
          "base_uri": "https://localhost:8080/",
          "height": 607
        },
        "id": "pOinqa9GAfHr",
        "outputId": "33effaa0-301b-4ddd-96ae-4651c7dd4a87"
      },
      "execution_count": null,
      "outputs": [
        {
          "output_type": "display_data",
          "data": {
            "text/plain": [
              "<Figure size 1000x600 with 1 Axes>"
            ],
            "image/png": "[encoded data removed]"
          },
          "metadata": {}
        }
      ]
    },
    {
      "cell_type": "code",
      "source": [
        "# Visualize the common number of rooms in flats using a bar plot\n",
        "plt.figure(figsize=(8, 6))\n",
        "df['No of Room'].value_counts().sort_index().plot(kind='bar', color='skyblue')\n",
        "plt.title('Distribution of Number of Rooms in Flats')\n",
        "plt.xlabel('Number of Rooms')\n",
        "plt.ylabel('Frequency')\n",
        "plt.xticks(rotation=0)\n",
        "plt.grid(axis='y', linestyle='--', alpha=0.7)\n",
        "plt.tight_layout()\n",
        "plt.show()"
      ],
      "metadata": {
        "colab": {
          "base_uri": "https://localhost:8080/",
          "height": 607
        },
        "id": "wwL6QEQGBtCe",
        "outputId": "840db3a3-5fa7-4fe9-fae3-dcf6a0681ead"
      },
      "execution_count": null,
      "outputs": [
        {
          "output_type": "display_data",
          "data": {
            "text/plain": [
              "<Figure size 800x600 with 1 Axes>"
            ],
            "image/png": "[encoded data removed]"
          },
          "metadata": {}
        }
      ]
    },
    {
      "cell_type": "markdown",
      "source": [
        "Owner and Tenant Information: Explore the data to understand the distribution between flat owners and tenants. Calculate the percentage of flat owners and tenants in the housing society.\n",
        "\n",
        "3. Owner and Tenant Information:\n",
        "\n",
        "Calculate the percentage of flat owners and tenants in the housing society.\n",
        "Visualize the distribution of flat ownership using a pie chart."
      ],
      "metadata": {
        "id": "JTDZNjh41p_v"
      }
    },
    {
      "cell_type": "code",
      "source": [
        "# Calculate the count of owners and tenants\n",
        "owner_count = df['Tenant or owner'].value_counts().get('owner', 0)\n",
        "tenant_count = df['Tenant or owner'].value_counts().get('tenant', 0)"
      ],
      "metadata": {
        "id": "0O6-7pfW1tg-"
      },
      "execution_count": null,
      "outputs": []
    },
    {
      "cell_type": "code",
      "source": [
        "df['Tenant or owner'].value_counts()"
      ],
      "metadata": {
        "colab": {
          "base_uri": "https://localhost:8080/"
        },
        "id": "-O60CgRtDrKi",
        "outputId": "6a12be89-a026-4a97-e4a6-48298cbfce40"
      },
      "execution_count": null,
      "outputs": [
        {
          "output_type": "execute_result",
          "data": {
            "text/plain": [
              "Tenant or owner\n",
              "owner     36\n",
              "tenant    24\n",
              "Name: count, dtype: int64"
            ]
          },
          "metadata": {},
          "execution_count": 102
        }
      ]
    },
    {
      "cell_type": "code",
      "source": [
        "print(owner_count)"
      ],
      "metadata": {
        "colab": {
          "base_uri": "https://localhost:8080/"
        },
        "id": "YsyJ5h0hDgNR",
        "outputId": "497b06dd-0b64-4303-f80a-521e44467313"
      },
      "execution_count": null,
      "outputs": [
        {
          "output_type": "stream",
          "name": "stdout",
          "text": [
            "36\n"
          ]
        }
      ]
    },
    {
      "cell_type": "code",
      "source": [
        "print(tenant_count)"
      ],
      "metadata": {
        "colab": {
          "base_uri": "https://localhost:8080/"
        },
        "id": "E9R0LjVVDmHb",
        "outputId": "75445295-813c-491b-b7c8-57a40f35dab1"
      },
      "execution_count": null,
      "outputs": [
        {
          "output_type": "stream",
          "name": "stdout",
          "text": [
            "24\n"
          ]
        }
      ]
    },
    {
      "cell_type": "code",
      "source": [
        "# Calculate the percentage of owners and tenants\n",
        "total_count = owner_count + tenant_count\n",
        "owner_percentage = (owner_count / total_count) * 100\n",
        "tenant_percentage = (tenant_count / total_count) * 100"
      ],
      "metadata": {
        "id": "BbuoCkDgC9g0"
      },
      "execution_count": null,
      "outputs": []
    },
    {
      "cell_type": "code",
      "source": [
        "print(\"Percentage of Flat Owners:\", owner_percentage)\n",
        "print(\"Percentage of Tenants:\", tenant_percentage)"
      ],
      "metadata": {
        "colab": {
          "base_uri": "https://localhost:8080/"
        },
        "id": "lF176UGTDByM",
        "outputId": "ad74c420-f6ee-4488-9e2e-3052c755a9aa"
      },
      "execution_count": null,
      "outputs": [
        {
          "output_type": "stream",
          "name": "stdout",
          "text": [
            "Percentage of Flat Owners: 60.0\n",
            "Percentage of Tenants: 40.0\n"
          ]
        }
      ]
    },
    {
      "cell_type": "code",
      "source": [
        "# Visualize the distribution of flat ownership using a pie chart\n",
        "labels = ['Owners', 'Tenants']\n",
        "sizes = [owner_count, tenant_count]\n",
        "colors = ['lightcoral', 'lightskyblue']\n",
        "explode = (0.1, 0)  # explode the 1st slice (i.e., 'Owners')"
      ],
      "metadata": {
        "id": "Tyys3K1IDG45"
      },
      "execution_count": null,
      "outputs": []
    },
    {
      "cell_type": "code",
      "source": [
        "plt.figure(figsize=(8, 6))\n",
        "plt.pie(sizes, explode=explode, labels=labels, colors=colors, autopct='%1.1f%%', shadow=True, startangle=140)\n",
        "plt.title('Distribution of Flat Ownership')\n",
        "plt.axis('equal')  # Equal aspect ratio ensures that pie is drawn as a circle.\n",
        "plt.show()"
      ],
      "metadata": {
        "colab": {
          "base_uri": "https://localhost:8080/",
          "height": 521
        },
        "id": "YkYjfDV6DRPD",
        "outputId": "6f680239-c30c-4809-b8ff-8b5ab66677ae"
      },
      "execution_count": null,
      "outputs": [
        {
          "output_type": "display_data",
          "data": {
            "text/plain": [
              "<Figure size 800x600 with 1 Axes>"
            ],
            "image/png": "[encoded data removed]"
          },
          "metadata": {}
        }
      ]
    },
    {
      "cell_type": "markdown",
      "source": [
        "4. Print Calculated Statistics:\n",
        "\n",
        "Print the calculated statistics, including the average number of residents per flat, average flat area, most common number of rooms, and percentages of flat owners and tenants.\n",
        "\n"
      ],
      "metadata": {
        "id": "fGbCLJOS2Ul5"
      }
    },
    {
      "cell_type": "code",
      "source": [
        "# Print the calculated statistics\n",
        "print(\"Calculated Statistics:\")\n",
        "print(\"Average number of residents per flat:\", average_residents_per_flat)\n",
        "print(\"Average flat area (in square meters):\", average_flat_area)\n",
        "print(\"Most common number of rooms in flats:\", most_common_rooms)\n",
        "print(\"Percentage of flat owners:\", owner_percentage)\n",
        "print(\"Percentage of tenants:\", tenant_percentage)"
      ],
      "metadata": {
        "colab": {
          "base_uri": "https://localhost:8080/"
        },
        "id": "IaSko5FT2VFN",
        "outputId": "cf27df1a-9e60-4435-d2d0-bc71847e374b"
      },
      "execution_count": null,
      "outputs": [
        {
          "output_type": "stream",
          "name": "stdout",
          "text": [
            "Calculated Statistics:\n",
            "Average number of residents per flat: 3.816666666666667\n",
            "Average flat area (in square meters): 554.1666666666666\n",
            "Most common number of rooms in flats: 2\n",
            "Percentage of flat owners: 60.0\n",
            "Percentage of tenants: 40.0\n"
          ]
        }
      ]
    },
    {
      "cell_type": "markdown",
      "source": [
        "5. Visualizations:\n",
        "\n",
        "Display the visualizations for the distribution of residents by origin, flat area, distribution, and the distribution of flat owners vs. tenants."
      ],
      "metadata": {
        "id": "5RxNl0Qz2Xzo"
      }
    },
    {
      "cell_type": "code",
      "source": [
        "# Visualization for the distribution of residents by origin (bar plot)\n",
        "plt.figure(figsize=(10, 6))\n",
        "df['Origin of Owner'].value_counts().plot(kind='bar', color='skyblue')\n",
        "plt.title('Distribution of Residents by Origin')\n",
        "plt.xlabel('Origin of Owner')\n",
        "plt.ylabel('Count')\n",
        "plt.xticks(rotation=45)\n",
        "plt.grid(axis='y')\n",
        "plt.show()"
      ],
      "metadata": {
        "colab": {
          "base_uri": "https://localhost:8080/",
          "height": 643
        },
        "id": "rl6JfWkn2YS8",
        "outputId": "e872d4c5-bc29-48cd-a295-d0195ad32762"
      },
      "execution_count": null,
      "outputs": [
        {
          "output_type": "display_data",
          "data": {
            "text/plain": [
              "<Figure size 1000x600 with 1 Axes>"
            ],
            "image/png": "[encoded data removed]"
          },
          "metadata": {}
        }
      ]
    },
    {
      "cell_type": "code",
      "source": [
        "# Visualization for the distribution of flat areas (histogram)\n",
        "plt.figure(figsize=(10, 6))\n",
        "plt.hist(df['Flat Area (sq.mt)'], bins=15, color='orange', edgecolor='black')\n",
        "plt.title('Distribution of Flat Areas')\n",
        "plt.xlabel('Flat Area (sq.mt)')\n",
        "plt.ylabel('Frequency')\n",
        "plt.grid(axis='y')\n",
        "plt.show()"
      ],
      "metadata": {
        "colab": {
          "base_uri": "https://localhost:8080/",
          "height": 564
        },
        "id": "DHr04BWCFi1S",
        "outputId": "86b5419a-644e-420d-8336-09158b5f2561"
      },
      "execution_count": null,
      "outputs": [
        {
          "output_type": "display_data",
          "data": {
            "text/plain": [
              "<Figure size 1000x600 with 1 Axes>"
            ],
            "image/png": "[encoded data removed]"
          },
          "metadata": {}
        }
      ]
    },
    {
      "cell_type": "code",
      "source": [
        "plt.figure(figsize=(8, 8))\n",
        "plt.pie(sizes, explode=explode, labels=labels, colors=colors, autopct='%1.1f%%', startangle=140)\n",
        "plt.title('Distribution of Flat Owners vs. Tenants')\n",
        "plt.axis('equal')  # Equal aspect ratio ensures that pie is drawn as a circle.\n",
        "plt.show()"
      ],
      "metadata": {
        "colab": {
          "base_uri": "https://localhost:8080/",
          "height": 675
        },
        "id": "Uwq59yNAFlwY",
        "outputId": "51de5573-f739-4eee-ba52-361f380a62db"
      },
      "execution_count": null,
      "outputs": [
        {
          "output_type": "display_data",
          "data": {
            "text/plain": [
              "<Figure size 800x800 with 1 Axes>"
            ],
            "image/png": "[encoded data removed]"
          },
          "metadata": {}
        }
      ]
    },
    {
      "cell_type": "markdown",
      "source": [
        "Task 6: Optimizing Event Planning and Resident Engagement:\n",
        "\n",
        "We will focus on analyzing resident participation, donations, and providing event planning recommendations for the upcoming grand event organized by the housing society. These analyses are vital for making data-driven decisions, optimizing event planning, and ensuring resource-efficient utilization."
      ],
      "metadata": {
        "id": "Apd4eSmBGLkw"
      }
    },
    {
      "cell_type": "markdown",
      "source": [
        "Resident Participation Analysis: Calculate the percentage of residents who have confirmed their participation in the upcoming event. Visualize resident participation by flat type (owner/tenant) using a boxplot.\n",
        "\n",
        "1. Resident Participation:\n",
        "\n",
        "Calculate the percentage of residents' participation by dividing the 'Confirmed Members' by the 'No of Resident' columns and multiplying by 100 to get the percentage.\n",
        "\n",
        " Visualize the data by creating a box plot that shows resident participation based on flat type (Owner or Tenant).\n",
        "\n",
        "\n",
        "\n",
        "\n"
      ],
      "metadata": {
        "id": "NnxHfDEjGRvA"
      }
    },
    {
      "cell_type": "code",
      "source": [
        "import seaborn as sns\n",
        "\n",
        "# Calculate percentage of residents' participation\n",
        "df['Participation Percentage'] = (df['Confirmed Members'] / df['No of Resident']) * 100\n",
        "\n"
      ],
      "metadata": {
        "id": "_Nzmi46CFrNb"
      },
      "execution_count": null,
      "outputs": []
    },
    {
      "cell_type": "code",
      "source": [
        "# Visualize resident participation by flat type using a box plot\n",
        "plt.figure(figsize=(10, 6))\n",
        "sns.boxplot(x='Tenant or owner', y='Participation Percentage', data=df)\n",
        "plt.title('Resident Participation by Flat Type')\n",
        "plt.xlabel('Flat Type')\n",
        "plt.ylabel('Participation Percentage')\n",
        "plt.show()"
      ],
      "metadata": {
        "colab": {
          "base_uri": "https://localhost:8080/",
          "height": 564
        },
        "id": "8IbkMbulKa3m",
        "outputId": "a778a636-aefb-4906-c501-30b8b63b03e8"
      },
      "execution_count": null,
      "outputs": [
        {
          "output_type": "display_data",
          "data": {
            "text/plain": [
              "<Figure size 1000x600 with 1 Axes>"
            ],
            "image/png": "[encoded data removed]"
          },
          "metadata": {}
        }
      ]
    },
    {
      "cell_type": "markdown",
      "source": [
        "### Let's break down the visualization:\n",
        "\n"
      ],
      "metadata": {
        "id": "jVzJ5I5wNq63"
      }
    },
    {
      "cell_type": "markdown",
      "source": [
        "-Box Plot: A box plot is a way to visualize the distribution of a dataset. It shows several statistical properties of the data, such as the median, quartiles, and potential outliers.\n",
        "\n",
        "-Flat Type (x-axis): The x-axis of the box plot represents the different categories of flat types, which in this case are \"Owner\" and \"Tenant\".\n",
        "\n",
        "-Participation Percentage (y-axis): The y-axis represents the percentage of residents' participation in the upcoming event. This is the calculated percentage of residents who have confirmed their participation.\n",
        "\n",
        "-Box and Whiskers: Each box in the plot represents the interquartile range (IQR) of the data. The line inside the box represents the median of the data. The whiskers (lines extending from the box) represent the range of the data, excluding any outliers.\n",
        "\n",
        "-Outliers: Any data points outside the whiskers are considered outliers. These points are represented individually on the plot."
      ],
      "metadata": {
        "id": "WK9tkwXPO26A"
      }
    },
    {
      "cell_type": "markdown",
      "source": [
        "Handling outliers depends on the context of the data and the goals of the analysis. Here's why and how we might handle outliers in this scenario:\n",
        "\n",
        "Why handle outliers?\n",
        "\n",
        "Data Integrity: Outliers could indicate errors in data collection or entry. Removing or correcting these outliers improves the integrity of the dataset.\n",
        "\n",
        "Impact on Analysis: Outliers can skew statistical measures such as the mean and standard deviation, leading to inaccurate insights. Removing or adjusting outliers can provide a more accurate representation of the central tendency and variability of the data.\n",
        "\n",
        "Model Performance: In some cases, outliers can adversely affect the performance of predictive models by influencing the model's parameters. Removing outliers can lead to better model performance.\n",
        "\n",
        "How to handle outliers?\n",
        "\n",
        "Remove Outliers: If outliers are due to data entry errors or anomalies, you may choose to remove them from the dataset. This can be done by filtering out data points that fall outside a certain range or by using statistical methods such as z-score or IQR.\n",
        "\n",
        "Transform Data: Another approach is to transform the data to reduce the impact of outliers. This can include applying mathematical transformations like logarithmic or square root transformations.\n",
        "\n",
        "Winsorization: Winsorization involves replacing outliers with less extreme values. For example, you might replace outliers with the nearest value within a certain percentile range.\n",
        "\n",
        "Model Robustness: Some models are robust to outliers, meaning they are less influenced by them. For example, decision trees and random forests are less sensitive to outliers compared to linear regression.\n",
        "\n",
        "In the context of resident participation analysis based on flat types:\n",
        "\n",
        "Handle: If outliers in the owner category significantly skew the distribution or affect the analysis, it might be beneficial to handle them.\n",
        "\n",
        "How: You could consider Winsorization, where you replace outliers with values within a certain percentile range. Alternatively, you could remove extreme outliers, especially if they are due to data entry errors.\n",
        "\n",
        "Caution: Before removing or adjusting outliers, ensure you understand the reasons behind them and consider the potential impact on the analysis. Outliers may sometimes contain valuable information or indicate genuine anomalies in the data."
      ],
      "metadata": {
        "id": "yA17cvGuQHZY"
      }
    },
    {
      "cell_type": "markdown",
      "source": [
        "##2. Donations Analysis:\n",
        "Calculate the average donation amount by finding the mean of the 'Donation' column.\n",
        "Calculate the total donation amount by summing the 'Donation' column.\n"
      ],
      "metadata": {
        "id": "wg0_-ew-HrMA"
      }
    },
    {
      "cell_type": "code",
      "source": [
        "# Calculate the average donation amount\n",
        "average_donation = df['Donation'].mean()\n",
        "\n",
        "# Calculate the total donation amount\n",
        "total_donation = df['Donation'].sum()\n",
        "\n",
        "print(\"Average Donation Amount:\", average_donation)\n",
        "print(\"Total Donation Amount:\", total_donation)"
      ],
      "metadata": {
        "colab": {
          "base_uri": "https://localhost:8080/"
        },
        "id": "KbjJyzQOHs9O",
        "outputId": "81e0ef6b-512d-4a6e-c668-bbe96f7be032"
      },
      "execution_count": null,
      "outputs": [
        {
          "output_type": "stream",
          "name": "stdout",
          "text": [
            "Average Donation Amount: 4000.0\n",
            "Total Donation Amount: 240000.0\n"
          ]
        }
      ]
    },
    {
      "cell_type": "markdown",
      "source": [
        "##3. Event Planning Recommendations: Provide recommendations for event planning based on the data analysis.\n",
        "\n",
        "Creating a list called 'recommendations' to store our event planning suggestions based on the data analysis.\n",
        "\n",
        "Check if the average donation amount is greater than or equal to 5000, suggesting a higher budget for the event.\n",
        "\n",
        "We check if the mean percentage of participation is above 70%, indicating a good turnout expectation.\n",
        "\n",
        "We check if the total donation amount collected exceeds 50000, indicating sufficient funds."
      ],
      "metadata": {
        "id": "-0-o6tcEHtHZ"
      }
    },
    {
      "cell_type": "code",
      "source": [
        "# Calculate the total confirmed members\n",
        "total_confirmed_members = df['Confirmed Members'].sum()\n",
        "\n",
        "# Calculate the total number of residents\n",
        "total_residents = df['No of Resident'].sum()\n",
        "\n",
        "# Calculate the mean participation percentage\n",
        "mean_participation = (total_confirmed_members / total_residents) * 100\n",
        "\n",
        "# Create an empty list to store recommendations\n",
        "recommendations = []\n",
        "\n",
        "# Check if the average donation amount is greater than or equal to 5000\n",
        "if average_donation >= 5000:\n",
        "    recommendations.append(\"Consider allocating a higher budget for the event.\")\n",
        "\n",
        "# Check if the mean percentage of participation is above 70%\n",
        "if mean_participation > 70:\n",
        "    recommendations.append(\"Expect a good turnout for the event.\")\n",
        "\n",
        "# Check if the total donation amount collected exceeds 50000\n",
        "if total_donation > 50000:\n",
        "    recommendations.append(\"There are sufficient funds for the event.\")\n",
        "\n",
        "# Print the recommendations\n",
        "print(\"Event Planning Recommendations:\")\n",
        "for recommendation in recommendations:\n",
        "    print(\"-\", recommendation)\n"
      ],
      "metadata": {
        "colab": {
          "base_uri": "https://localhost:8080/"
        },
        "id": "oGzB8gRhHyec",
        "outputId": "e163d1ca-50e7-42ed-fb51-f8d3e1d7ce99"
      },
      "execution_count": null,
      "outputs": [
        {
          "output_type": "stream",
          "name": "stdout",
          "text": [
            "Event Planning Recommendations:\n",
            "- Expect a good turnout for the event.\n",
            "- There are sufficient funds for the event.\n"
          ]
        }
      ]
    },
    {
      "cell_type": "code",
      "source": [
        "print(\"Total confirmed members:\", total_confirmed_members)\n",
        "print(\"Total resident members:\", total_residents)\n",
        "print(\"Total mean participation:\", mean_participation)\n",
        "print(\"Average Donation Amount:\", average_donation)\n",
        "print(\"Total Donation Amount:\", total_donation)"
      ],
      "metadata": {
        "colab": {
          "base_uri": "https://localhost:8080/"
        },
        "id": "Gi2xBEQKS3pp",
        "outputId": "3877c036-5387-4587-ba01-3b763244a1ff"
      },
      "execution_count": null,
      "outputs": [
        {
          "output_type": "stream",
          "name": "stdout",
          "text": [
            "Total confirmed members: 216\n",
            "Total resident members: 229\n",
            "Total mean participation: 94.32314410480349\n",
            "Average Donation Amount: 4000.0\n",
            "Total Donation Amount: 240000.0\n"
          ]
        }
      ]
    },
    {
      "cell_type": "markdown",
      "source": [
        "Summary: We calculated the percentage of residents participating in the event and visualized it by flat type. We also analyzed donation-related data, including average and total donation amounts. Finally, we provided event planning recommendations, which are crucial for efficient event management, cost optimization, and ensuring a successful grand event. These analyses help the housing society make informed decisions, allocate resources effectively, and create an enjoyable and memorable event for the residents."
      ],
      "metadata": {
        "id": "ai8O-kKOWAyW"
      }
    },
    {
      "cell_type": "markdown",
      "source": [
        "Task 7: Decorator and Caterer Analysis for Grand Housing Society Event\n",
        "We will analyze the decorator and caterer data to make informed decisions about selecting the best decorator and caterer for our grand housing society event.\n",
        "\n",
        "1. Decorator Analysis: Identify the decorator with the highest rating. Identify the most cost-effective decorator based on decoration price.\n",
        "\n",
        "-We start by identifying the decorator with the highest rating and the most cost-effective decorator based on decoration price.\n",
        "\n",
        "-“highest_rated_decorator” stores the decorator with the highest rating, and “cost_effective_decorator” stores the decorator with the lowest decoration price.\n"
      ],
      "metadata": {
        "id": "Hv8IJvF9WPXx"
      }
    },
    {
      "cell_type": "code",
      "source": [
        "df2.head(20)"
      ],
      "metadata": {
        "colab": {
          "base_uri": "https://localhost:8080/",
          "height": 676
        },
        "id": "C3Z2A0l5iBCV",
        "outputId": "66a3bcc5-a1d0-41f5-94b0-5a4b56e06144"
      },
      "execution_count": null,
      "outputs": [
        {
          "output_type": "execute_result",
          "data": {
            "text/plain": [
              "    Unnamed: 0  Plate Cost  Decoration Price  Rating Caterer Name\n",
              "0            0         280              5000     2.4            a\n",
              "1            1         420              4300     3.8            b\n",
              "2            2         390              5900     3.1            c\n",
              "3            3         420              6900     4.6            d\n",
              "4            4         280              6500     2.3            e\n",
              "5            5         360              7000     3.3            f\n",
              "6            6         250              4200     3.4            g\n",
              "7            7         370              4800     3.8            h\n",
              "8            8         370              5800     3.1            i\n",
              "9            9         400              6900     2.4            j\n",
              "10          10         380              4300     4.0            k\n",
              "11          11         370              5600     4.0            l\n",
              "12          12         250              5000     4.3            m\n",
              "13          13         440              4700     3.2            n\n",
              "14          14         490              4900     4.0            o\n",
              "15          15         320              5400     4.8            p\n",
              "16          16         480              5400     3.8            q\n",
              "17          17         500              6500     3.2            r\n",
              "18          18         310              4700     3.7            s\n",
              "19          19         400              4800     2.3            t"
            ],
            "text/html": [
              "\n",
              "  <div id=\"df-0147bff1-2d77-44b3-8e7b-e0ec01705bff\" class=\"colab-df-container\">\n",
              "    <div>\n",
              "<style scoped>\n",
              "    .dataframe tbody tr th:only-of-type {\n",
              "        vertical-align: middle;\n",
              "    }\n",
              "\n",
              "    .dataframe tbody tr th {\n",
              "        vertical-align: top;\n",
              "    }\n",
              "\n",
              "    .dataframe thead th {\n",
              "        text-align: right;\n",
              "    }\n",
              "</style>\n",
              "<table border=\"1\" class=\"dataframe\">\n",
              "  <thead>\n",
              "    <tr style=\"text-align: right;\">\n",
              "      <th></th>\n",
              "      <th>Unnamed: 0</th>\n",
              "      <th>Plate Cost</th>\n",
              "      <th>Decoration Price</th>\n",
              "      <th>Rating</th>\n",
              "      <th>Caterer Name</th>\n",
              "    </tr>\n",
              "  </thead>\n",
              "  <tbody>\n",
              "    <tr>\n",
              "      <th>0</th>\n",
              "      <td>0</td>\n",
              "      <td>280</td>\n",
              "      <td>5000</td>\n",
              "      <td>2.4</td>\n",
              "      <td>a</td>\n",
              "    </tr>\n",
              "    <tr>\n",
              "      <th>1</th>\n",
              "      <td>1</td>\n",
              "      <td>420</td>\n",
              "      <td>4300</td>\n",
              "      <td>3.8</td>\n",
              "      <td>b</td>\n",
              "    </tr>\n",
              "    <tr>\n",
              "      <th>2</th>\n",
              "      <td>2</td>\n",
              "      <td>390</td>\n",
              "      <td>5900</td>\n",
              "      <td>3.1</td>\n",
              "      <td>c</td>\n",
              "    </tr>\n",
              "    <tr>\n",
              "      <th>3</th>\n",
              "      <td>3</td>\n",
              "      <td>420</td>\n",
              "      <td>6900</td>\n",
              "      <td>4.6</td>\n",
              "      <td>d</td>\n",
              "    </tr>\n",
              "    <tr>\n",
              "      <th>4</th>\n",
              "      <td>4</td>\n",
              "      <td>280</td>\n",
              "      <td>6500</td>\n",
              "      <td>2.3</td>\n",
              "      <td>e</td>\n",
              "    </tr>\n",
              "    <tr>\n",
              "      <th>5</th>\n",
              "      <td>5</td>\n",
              "      <td>360</td>\n",
              "      <td>7000</td>\n",
              "      <td>3.3</td>\n",
              "      <td>f</td>\n",
              "    </tr>\n",
              "    <tr>\n",
              "      <th>6</th>\n",
              "      <td>6</td>\n",
              "      <td>250</td>\n",
              "      <td>4200</td>\n",
              "      <td>3.4</td>\n",
              "      <td>g</td>\n",
              "    </tr>\n",
              "    <tr>\n",
              "      <th>7</th>\n",
              "      <td>7</td>\n",
              "      <td>370</td>\n",
              "      <td>4800</td>\n",
              "      <td>3.8</td>\n",
              "      <td>h</td>\n",
              "    </tr>\n",
              "    <tr>\n",
              "      <th>8</th>\n",
              "      <td>8</td>\n",
              "      <td>370</td>\n",
              "      <td>5800</td>\n",
              "      <td>3.1</td>\n",
              "      <td>i</td>\n",
              "    </tr>\n",
              "    <tr>\n",
              "      <th>9</th>\n",
              "      <td>9</td>\n",
              "      <td>400</td>\n",
              "      <td>6900</td>\n",
              "      <td>2.4</td>\n",
              "      <td>j</td>\n",
              "    </tr>\n",
              "    <tr>\n",
              "      <th>10</th>\n",
              "      <td>10</td>\n",
              "      <td>380</td>\n",
              "      <td>4300</td>\n",
              "      <td>4.0</td>\n",
              "      <td>k</td>\n",
              "    </tr>\n",
              "    <tr>\n",
              "      <th>11</th>\n",
              "      <td>11</td>\n",
              "      <td>370</td>\n",
              "      <td>5600</td>\n",
              "      <td>4.0</td>\n",
              "      <td>l</td>\n",
              "    </tr>\n",
              "    <tr>\n",
              "      <th>12</th>\n",
              "      <td>12</td>\n",
              "      <td>250</td>\n",
              "      <td>5000</td>\n",
              "      <td>4.3</td>\n",
              "      <td>m</td>\n",
              "    </tr>\n",
              "    <tr>\n",
              "      <th>13</th>\n",
              "      <td>13</td>\n",
              "      <td>440</td>\n",
              "      <td>4700</td>\n",
              "      <td>3.2</td>\n",
              "      <td>n</td>\n",
              "    </tr>\n",
              "    <tr>\n",
              "      <th>14</th>\n",
              "      <td>14</td>\n",
              "      <td>490</td>\n",
              "      <td>4900</td>\n",
              "      <td>4.0</td>\n",
              "      <td>o</td>\n",
              "    </tr>\n",
              "    <tr>\n",
              "      <th>15</th>\n",
              "      <td>15</td>\n",
              "      <td>320</td>\n",
              "      <td>5400</td>\n",
              "      <td>4.8</td>\n",
              "      <td>p</td>\n",
              "    </tr>\n",
              "    <tr>\n",
              "      <th>16</th>\n",
              "      <td>16</td>\n",
              "      <td>480</td>\n",
              "      <td>5400</td>\n",
              "      <td>3.8</td>\n",
              "      <td>q</td>\n",
              "    </tr>\n",
              "    <tr>\n",
              "      <th>17</th>\n",
              "      <td>17</td>\n",
              "      <td>500</td>\n",
              "      <td>6500</td>\n",
              "      <td>3.2</td>\n",
              "      <td>r</td>\n",
              "    </tr>\n",
              "    <tr>\n",
              "      <th>18</th>\n",
              "      <td>18</td>\n",
              "      <td>310</td>\n",
              "      <td>4700</td>\n",
              "      <td>3.7</td>\n",
              "      <td>s</td>\n",
              "    </tr>\n",
              "    <tr>\n",
              "      <th>19</th>\n",
              "      <td>19</td>\n",
              "      <td>400</td>\n",
              "      <td>4800</td>\n",
              "      <td>2.3</td>\n",
              "      <td>t</td>\n",
              "    </tr>\n",
              "  </tbody>\n",
              "</table>\n",
              "</div>\n",
              "    <div class=\"colab-df-buttons\">\n",
              "\n",
              "  <div class=\"colab-df-container\">\n",
              "    <button class=\"colab-df-convert\" onclick=\"convertToInteractive('df-0147bff1-2d77-44b3-8e7b-e0ec01705bff')\"\n",
              "            title=\"Convert this dataframe to an interactive table.\"\n",
              "            style=\"display:none;\">\n",
              "\n",
              "  <svg xmlns=\"http://www.w3.org/2000/svg\" height=\"24px\" viewBox=\"0 -960 960 960\">\n",
              "    <path d=\"M120-120v-720h720v720H120Zm60-500h600v-160H180v160Zm220 220h160v-160H400v160Zm0 220h160v-160H400v160ZM180-400h160v-160H180v160Zm440 0h160v-160H620v160ZM180-180h160v-160H180v160Zm440 0h160v-160H620v160Z\"/>\n",
              "  </svg>\n",
              "    </button>\n",
              "\n",
              "  <style>\n",
              "    .colab-df-container {\n",
              "      display:flex;\n",
              "      gap: 12px;\n",
              "    }\n",
              "\n",
              "    .colab-df-convert {\n",
              "      background-color: #E8F0FE;\n",
              "      border: none;\n",
              "      border-radius: 50%;\n",
              "      cursor: pointer;\n",
              "      display: none;\n",
              "      fill: #1967D2;\n",
              "      height: 32px;\n",
              "      padding: 0 0 0 0;\n",
              "      width: 32px;\n",
              "    }\n",
              "\n",
              "    .colab-df-convert:hover {\n",
              "      background-color: #E2EBFA;\n",
              "      box-shadow: 0px 1px 2px rgba(60, 64, 67, 0.3), 0px 1px 3px 1px rgba(60, 64, 67, 0.15);\n",
              "      fill: #174EA6;\n",
              "    }\n",
              "\n",
              "    .colab-df-buttons div {\n",
              "      margin-bottom: 4px;\n",
              "    }\n",
              "\n",
              "    [theme=dark] .colab-df-convert {\n",
              "      background-color: #3B4455;\n",
              "      fill: #D2E3FC;\n",
              "    }\n",
              "\n",
              "    [theme=dark] .colab-df-convert:hover {\n",
              "      background-color: #434B5C;\n",
              "      box-shadow: 0px 1px 3px 1px rgba(0, 0, 0, 0.15);\n",
              "      filter: drop-shadow(0px 1px 2px rgba(0, 0, 0, 0.3));\n",
              "      fill: #FFFFFF;\n",
              "    }\n",
              "  </style>\n",
              "\n",
              "    <script>\n",
              "      const buttonEl =\n",
              "        document.querySelector('#df-0147bff1-2d77-44b3-8e7b-e0ec01705bff button.colab-df-convert');\n",
              "      buttonEl.style.display =\n",
              "        google.colab.kernel.accessAllowed ? 'block' : 'none';\n",
              "\n",
              "      async function convertToInteractive(key) {\n",
              "        const element = document.querySelector('#df-0147bff1-2d77-44b3-8e7b-e0ec01705bff');\n",
              "        const dataTable =\n",
              "          await google.colab.kernel.invokeFunction('convertToInteractive',\n",
              "                                                    [key], {});\n",
              "        if (!dataTable) return;\n",
              "\n",
              "        const docLinkHtml = 'Like what you see? Visit the ' +\n",
              "          '<a target=\"_blank\" href=https://colab.research.google.com/notebooks/data_table.ipynb>data table notebook</a>'\n",
              "          + ' to learn more about interactive tables.';\n",
              "        element.innerHTML = '';\n",
              "        dataTable['output_type'] = 'display_data';\n",
              "        await google.colab.output.renderOutput(dataTable, element);\n",
              "        const docLink = document.createElement('div');\n",
              "        docLink.innerHTML = docLinkHtml;\n",
              "        element.appendChild(docLink);\n",
              "      }\n",
              "    </script>\n",
              "  </div>\n",
              "\n",
              "\n",
              "<div id=\"df-9924bd70-9ad8-4ddc-a209-a6eec681d8da\">\n",
              "  <button class=\"colab-df-quickchart\" onclick=\"quickchart('df-9924bd70-9ad8-4ddc-a209-a6eec681d8da')\"\n",
              "            title=\"Suggest charts\"\n",
              "            style=\"display:none;\">\n",
              "\n",
              "<svg xmlns=\"http://www.w3.org/2000/svg\" height=\"24px\"viewBox=\"0 0 24 24\"\n",
              "     width=\"24px\">\n",
              "    <g>\n",
              "        <path d=\"M19 3H5c-1.1 0-2 .9-2 2v14c0 1.1.9 2 2 2h14c1.1 0 2-.9 2-2V5c0-1.1-.9-2-2-2zM9 17H7v-7h2v7zm4 0h-2V7h2v10zm4 0h-2v-4h2v4z\"/>\n",
              "    </g>\n",
              "</svg>\n",
              "  </button>\n",
              "\n",
              "<style>\n",
              "  .colab-df-quickchart {\n",
              "      --bg-color: #E8F0FE;\n",
              "      --fill-color: #1967D2;\n",
              "      --hover-bg-color: #E2EBFA;\n",
              "      --hover-fill-color: #174EA6;\n",
              "      --disabled-fill-color: #AAA;\n",
              "      --disabled-bg-color: #DDD;\n",
              "  }\n",
              "\n",
              "  [theme=dark] .colab-df-quickchart {\n",
              "      --bg-color: #3B4455;\n",
              "      --fill-color: #D2E3FC;\n",
              "      --hover-bg-color: #434B5C;\n",
              "      --hover-fill-color: #FFFFFF;\n",
              "      --disabled-bg-color: #3B4455;\n",
              "      --disabled-fill-color: #666;\n",
              "  }\n",
              "\n",
              "  .colab-df-quickchart {\n",
              "    background-color: var(--bg-color);\n",
              "    border: none;\n",
              "    border-radius: 50%;\n",
              "    cursor: pointer;\n",
              "    display: none;\n",
              "    fill: var(--fill-color);\n",
              "    height: 32px;\n",
              "    padding: 0;\n",
              "    width: 32px;\n",
              "  }\n",
              "\n",
              "  .colab-df-quickchart:hover {\n",
              "    background-color: var(--hover-bg-color);\n",
              "    box-shadow: 0 1px 2px rgba(60, 64, 67, 0.3), 0 1px 3px 1px rgba(60, 64, 67, 0.15);\n",
              "    fill: var(--button-hover-fill-color);\n",
              "  }\n",
              "\n",
              "  .colab-df-quickchart-complete:disabled,\n",
              "  .colab-df-quickchart-complete:disabled:hover {\n",
              "    background-color: var(--disabled-bg-color);\n",
              "    fill: var(--disabled-fill-color);\n",
              "    box-shadow: none;\n",
              "  }\n",
              "\n",
              "  .colab-df-spinner {\n",
              "    border: 2px solid var(--fill-color);\n",
              "    border-color: transparent;\n",
              "    border-bottom-color: var(--fill-color);\n",
              "    animation:\n",
              "      spin 1s steps(1) infinite;\n",
              "  }\n",
              "\n",
              "  @keyframes spin {\n",
              "    0% {\n",
              "      border-color: transparent;\n",
              "      border-bottom-color: var(--fill-color);\n",
              "      border-left-color: var(--fill-color);\n",
              "    }\n",
              "    20% {\n",
              "      border-color: transparent;\n",
              "      border-left-color: var(--fill-color);\n",
              "      border-top-color: var(--fill-color);\n",
              "    }\n",
              "    30% {\n",
              "      border-color: transparent;\n",
              "      border-left-color: var(--fill-color);\n",
              "      border-top-color: var(--fill-color);\n",
              "      border-right-color: var(--fill-color);\n",
              "    }\n",
              "    40% {\n",
              "      border-color: transparent;\n",
              "      border-right-color: var(--fill-color);\n",
              "      border-top-color: var(--fill-color);\n",
              "    }\n",
              "    60% {\n",
              "      border-color: transparent;\n",
              "      border-right-color: var(--fill-color);\n",
              "    }\n",
              "    80% {\n",
              "      border-color: transparent;\n",
              "      border-right-color: var(--fill-color);\n",
              "      border-bottom-color: var(--fill-color);\n",
              "    }\n",
              "    90% {\n",
              "      border-color: transparent;\n",
              "      border-bottom-color: var(--fill-color);\n",
              "    }\n",
              "  }\n",
              "</style>\n",
              "\n",
              "  <script>\n",
              "    async function quickchart(key) {\n",
              "      const quickchartButtonEl =\n",
              "        document.querySelector('#' + key + ' button');\n",
              "      quickchartButtonEl.disabled = true;  // To prevent multiple clicks.\n",
              "      quickchartButtonEl.classList.add('colab-df-spinner');\n",
              "      try {\n",
              "        const charts = await google.colab.kernel.invokeFunction(\n",
              "            'suggestCharts', [key], {});\n",
              "      } catch (error) {\n",
              "        console.error('Error during call to suggestCharts:', error);\n",
              "      }\n",
              "      quickchartButtonEl.classList.remove('colab-df-spinner');\n",
              "      quickchartButtonEl.classList.add('colab-df-quickchart-complete');\n",
              "    }\n",
              "    (() => {\n",
              "      let quickchartButtonEl =\n",
              "        document.querySelector('#df-9924bd70-9ad8-4ddc-a209-a6eec681d8da button');\n",
              "      quickchartButtonEl.style.display =\n",
              "        google.colab.kernel.accessAllowed ? 'block' : 'none';\n",
              "    })();\n",
              "  </script>\n",
              "</div>\n",
              "\n",
              "    </div>\n",
              "  </div>\n"
            ],
            "application/vnd.google.colaboratory.intrinsic+json": {
              "type": "dataframe",
              "variable_name": "df2",
              "summary": "{\n  \"name\": \"df2\",\n  \"rows\": 20,\n  \"fields\": [\n    {\n      \"column\": \"Unnamed: 0\",\n      \"properties\": {\n        \"dtype\": \"number\",\n        \"std\": 5,\n        \"min\": 0,\n        \"max\": 19,\n        \"num_unique_values\": 20,\n        \"samples\": [\n          0,\n          17,\n          15\n        ],\n        \"semantic_type\": \"\",\n        \"description\": \"\"\n      }\n    },\n    {\n      \"column\": \"Plate Cost\",\n      \"properties\": {\n        \"dtype\": \"number\",\n        \"std\": 74,\n        \"min\": 250,\n        \"max\": 500,\n        \"num_unique_values\": 14,\n        \"samples\": [\n          490,\n          480,\n          280\n        ],\n        \"semantic_type\": \"\",\n        \"description\": \"\"\n      }\n    },\n    {\n      \"column\": \"Decoration Price\",\n      \"properties\": {\n        \"dtype\": \"number\",\n        \"std\": 918,\n        \"min\": 4200,\n        \"max\": 7000,\n        \"num_unique_values\": 13,\n        \"samples\": [\n          4900,\n          5600,\n          5000\n        ],\n        \"semantic_type\": \"\",\n        \"description\": \"\"\n      }\n    },\n    {\n      \"column\": \"Rating\",\n      \"properties\": {\n        \"dtype\": \"number\",\n        \"std\": 0.7411761634477716,\n        \"min\": 2.3,\n        \"max\": 4.8,\n        \"num_unique_values\": 12,\n        \"samples\": [\n          4.8,\n          3.2,\n          2.4\n        ],\n        \"semantic_type\": \"\",\n        \"description\": \"\"\n      }\n    },\n    {\n      \"column\": \"Caterer Name\",\n      \"properties\": {\n        \"dtype\": \"string\",\n        \"num_unique_values\": 20,\n        \"samples\": [\n          \"a\",\n          \"r\",\n          \"p\"\n        ],\n        \"semantic_type\": \"\",\n        \"description\": \"\"\n      }\n    }\n  ]\n}"
            }
          },
          "metadata": {},
          "execution_count": 126
        }
      ]
    },
    {
      "cell_type": "code",
      "source": [
        "# Identify the decorator with the highest rating\n",
        "highest_rated_decorator = df2.loc[df2['Rating'].idxmax()]['Caterer Name']\n",
        "\n",
        "# Identify the most cost-effective decorator based on decoration price\n",
        "cost_effective_decorator = df2.loc[df2['Decoration Price'].idxmin()]['Caterer Name']\n",
        "\n",
        "# Print the results\n",
        "print(\"Decorator Analysis:\")\n",
        "print(\"Highest Rated Decorator:\", highest_rated_decorator)\n",
        "print(\"Most Cost-effective Decorator:\", cost_effective_decorator)\n"
      ],
      "metadata": {
        "colab": {
          "base_uri": "https://localhost:8080/"
        },
        "id": "C1jjbVdKVxRn",
        "outputId": "dc6726f7-7bc4-4936-8911-0ef7365a6189"
      },
      "execution_count": null,
      "outputs": [
        {
          "output_type": "stream",
          "name": "stdout",
          "text": [
            "Decorator Analysis:\n",
            "Highest Rated Decorator: p\n",
            "Most Cost-effective Decorator: g\n"
          ]
        }
      ]
    },
    {
      "cell_type": "markdown",
      "source": [
        "2. Caterer Analysis: Identify the caterer with the highest rating. Identify the most cost-effective caterer based on plate cost. We will consider customer satisfaction (rating) and cost-effectiveness (plate cost for caterer and decoration price for decorator) as key factors in making these selections.\n",
        "\n",
        "-Similar to decorator analysis, we identify the caterer with the highest rating and the most cost-effective caterer based on plate cost.\n",
        "\n",
        "-“highest_rated_caterer” stores the caterer with the highest rating, and “cost_effective_caterer” stores the caterer with the lowest plate cost."
      ],
      "metadata": {
        "id": "_EFF2-VJWuL2"
      }
    },
    {
      "cell_type": "code",
      "source": [
        "# Identify the caterer with the highest rating\n",
        "highest_rated_caterer = df2.loc[df2['Rating'].idxmax()]['Caterer Name']\n",
        "\n",
        "# Identify the most cost-effective caterer based on caterer price\n",
        "cost_effective_caterer = df2.loc[df2['Plate Cost'].idxmin()]['Caterer Name']\n",
        "\n",
        "# Print the results\n",
        "print(\"Caterer Analysis:\")\n",
        "print(\"Highest Rated Caterer:\", highest_rated_caterer)\n",
        "print(\"Most Cost-effective Decorator:\", cost_effective_caterer)\n"
      ],
      "metadata": {
        "colab": {
          "base_uri": "https://localhost:8080/"
        },
        "id": "HDPtovBsWvyV",
        "outputId": "f46cf29b-0214-4e94-9abb-af615aaa1ced"
      },
      "execution_count": null,
      "outputs": [
        {
          "output_type": "stream",
          "name": "stdout",
          "text": [
            "Caterer Analysis:\n",
            "Highest Rated Caterer: p\n",
            "Most Cost-effective Decorator: g\n"
          ]
        }
      ]
    },
    {
      "cell_type": "markdown",
      "source": [
        "3. Caterer and Decorator Recommendations: Provide recommendations for selecting the best caterer and decorator based on customer satisfaction (rating) and cost-effectiveness (plate cost or decoration price).\n",
        "\n",
        "We provide recommendations for selecting the best caterer and decorator.\n",
        "\n",
        "-“decorator_recommendation” suggests the highest-rated decorator with their rating.\n",
        "\n",
        "-“caterer_recommendation” suggests the most cost-effective caterer with their plate cost.\n",
        "\n"
      ],
      "metadata": {
        "id": "3LNV0TOUXBbw"
      }
    },
    {
      "cell_type": "code",
      "source": [
        "highest_rating = df2['Rating'].max()\n",
        "decorator_recommendation = f\"For decorator, we recommend '{highest_rated_decorator}' with a rating of {highest_rating}.\"\n",
        "\n",
        "# Caterer recommendation\n",
        "lowest_plate_cost = df2['Plate Cost'].min()\n",
        "caterer_recommendation = f\"For caterer, we recommend '{cost_effective_caterer}' with a plate cost of {lowest_plate_cost}.\"\n",
        "\n",
        "# Print recommendations\n",
        "print(\"Caterer and Decorator Recommendations:\")\n",
        "print(decorator_recommendation)\n",
        "print(caterer_recommendation)"
      ],
      "metadata": {
        "colab": {
          "base_uri": "https://localhost:8080/"
        },
        "id": "Q2SM9oYFXCub",
        "outputId": "d08f34a2-87c1-446c-ac5a-9d02023578f8"
      },
      "execution_count": null,
      "outputs": [
        {
          "output_type": "stream",
          "name": "stdout",
          "text": [
            "Caterer and Decorator Recommendations:\n",
            "For decorator, we recommend 'p' with a rating of 4.8.\n",
            "For caterer, we recommend 'g' with a plate cost of 250.\n"
          ]
        }
      ]
    },
    {
      "cell_type": "code",
      "source": [],
      "metadata": {
        "id": "aOuyrpsvk0eQ"
      },
      "execution_count": null,
      "outputs": []
    }
  ]
}